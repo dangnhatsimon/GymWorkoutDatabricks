{
 "cells": [
  {
   "cell_type": "markdown",
   "metadata": {
    "application/vnd.databricks.v1+cell": {
     "cellMetadata": {},
     "inputWidgets": {},
     "nuid": "46e78e91-1018-4a1f-994f-358296068552",
     "showTitle": false,
     "tableResultSettingsMap": {},
     "title": ""
    }
   },
   "source": [
    "\n",
    "<div style=\"text-align: center; line-height: 0; padding-top: 9px;\">\n",
    "  <img src=\"https://databricks.com/wp-content/uploads/2018/03/db-academy-rgb-1200px.png\" alt=\"Databricks Learning\" style=\"width: 600px\">\n",
    "</div>"
   ]
  },
  {
   "cell_type": "markdown",
   "metadata": {
    "application/vnd.databricks.v1+cell": {
     "cellMetadata": {},
     "inputWidgets": {},
     "nuid": "00b96431-c8d7-4bd9-8ff7-d2417e444029",
     "showTitle": false,
     "tableResultSettingsMap": {},
     "title": ""
    }
   },
   "source": [
    "# Deidentified PII Access\n",
    "\n",
    "This lesson explores approaches for reducing risk of PII leakage while working with potentially sensitive information for analytics and reporting.\n",
    "\n",
    "<img src=\"https://files.training.databricks.com/images/ade/ADE_arch_user_bins.png\" width=\"60%\" />\n",
    "\n",
    "## Learning Objectives\n",
    "By the end of this lesson, students will be able to:\n",
    "- Apply dynamic views to sensitive data to obscure columns containing PII\n",
    "- Use dynamic views to filter data, only showing relevant rows to relevant audiences\n",
    "- Create binned tables to generalize data and obscure PII"
   ]
  },
  {
   "cell_type": "markdown",
   "metadata": {
    "application/vnd.databricks.v1+cell": {
     "cellMetadata": {},
     "inputWidgets": {},
     "nuid": "a4c613b1-0291-42d3-b105-eeaf1863db31",
     "showTitle": false,
     "tableResultSettingsMap": {},
     "title": ""
    }
   },
   "source": [
    "Begin by running the following cell to set up relevant databases and paths."
   ]
  },
  {
   "cell_type": "code",
   "execution_count": 0,
   "metadata": {
    "application/vnd.databricks.v1+cell": {
     "cellMetadata": {},
     "inputWidgets": {},
     "nuid": "5013787f-9ddd-4b7a-aade-b314cb73452c",
     "showTitle": false,
     "tableResultSettingsMap": {},
     "title": ""
    }
   },
   "outputs": [],
   "source": [
    "%run ../Includes/Classroom-Setup-6.3"
   ]
  },
  {
   "cell_type": "markdown",
   "metadata": {
    "application/vnd.databricks.v1+cell": {
     "cellMetadata": {},
     "inputWidgets": {},
     "nuid": "7562b083-643a-46d7-9f36-ebc38f32bc0d",
     "showTitle": false,
     "tableResultSettingsMap": {},
     "title": ""
    }
   },
   "source": [
    "## Dynamic Views\n",
    "\n",
    "Databricks <a href=\"https://docs.databricks.com/security/access-control/table-acls/object-privileges.html#dynamic-view-functions\" target=\"_blank\">dynamic views</a> allow user or group identity ACLs to be applied to data at the column (or row) level.\n",
    "\n",
    "Database administrators can configure data access privileges to disallow access to a source table and only allow users to query a redacted view. \n",
    "\n",
    "Users with sufficient privileges will be able to see all fields, while restricted users will be shown arbitrary results, as defined at view creation."
   ]
  },
  {
   "cell_type": "markdown",
   "metadata": {
    "application/vnd.databricks.v1+cell": {
     "cellMetadata": {},
     "inputWidgets": {},
     "nuid": "881565ae-6f91-4326-895d-63c24f9e0c9e",
     "showTitle": false,
     "tableResultSettingsMap": {},
     "title": ""
    }
   },
   "source": [
    "Consider our **`users`** table with the following columns."
   ]
  },
  {
   "cell_type": "code",
   "execution_count": 0,
   "metadata": {
    "application/vnd.databricks.v1+cell": {
     "cellMetadata": {},
     "inputWidgets": {},
     "nuid": "a8529556-acd5-4a75-9f5d-5d79965ccc38",
     "showTitle": false,
     "tableResultSettingsMap": {},
     "title": ""
    }
   },
   "outputs": [],
   "source": [
    "%sql \n",
    "DESCRIBE TABLE users"
   ]
  },
  {
   "cell_type": "markdown",
   "metadata": {
    "application/vnd.databricks.v1+cell": {
     "cellMetadata": {},
     "inputWidgets": {},
     "nuid": "0d776b12-314c-4767-ba86-d766e698dfea",
     "showTitle": false,
     "tableResultSettingsMap": {},
     "title": ""
    }
   },
   "source": [
    "Obviously first name, last name, date of birth, and street address are problematic. \n",
    "\n",
    "We'll also obfuscate zip code (as zip code combined with date of birth has a very high confidence in identifying data)."
   ]
  },
  {
   "cell_type": "code",
   "execution_count": 0,
   "metadata": {
    "application/vnd.databricks.v1+cell": {
     "cellMetadata": {},
     "inputWidgets": {},
     "nuid": "e1249467-4578-4e9d-8d56-c66d132fbabf",
     "showTitle": false,
     "tableResultSettingsMap": {},
     "title": ""
    }
   },
   "outputs": [],
   "source": [
    "%sql\n",
    "CREATE OR REPLACE VIEW users_vw AS\n",
    "  SELECT\n",
    "    alt_id,\n",
    "    CASE \n",
    "      WHEN is_member('ade_demo') THEN dob\n",
    "      ELSE 'REDACTED'\n",
    "    END AS dob,\n",
    "    sex,\n",
    "    gender,\n",
    "    CASE \n",
    "      WHEN is_member('ade_demo') THEN first_name\n",
    "      ELSE 'REDACTED'\n",
    "    END AS first_name,\n",
    "    CASE \n",
    "      WHEN is_member('ade_demo') THEN last_name\n",
    "      ELSE 'REDACTED'\n",
    "    END AS last_name,\n",
    "    CASE \n",
    "      WHEN is_member('ade_demo') THEN street_address\n",
    "      ELSE 'REDACTED'\n",
    "    END AS street_address,\n",
    "    city,\n",
    "    state,\n",
    "    CASE \n",
    "      WHEN is_member('ade_demo') THEN zip\n",
    "      ELSE 'REDACTED'\n",
    "    END AS zip,\n",
    "    updated\n",
    "  FROM users"
   ]
  },
  {
   "cell_type": "markdown",
   "metadata": {
    "application/vnd.databricks.v1+cell": {
     "cellMetadata": {},
     "inputWidgets": {},
     "nuid": "406c19bb-f4c1-4964-a3e2-0137bb477357",
     "showTitle": false,
     "tableResultSettingsMap": {},
     "title": ""
    }
   },
   "source": [
    "Now when we query from **`users_vw`**, only members of the group **`ade_demo`** will be able to see results in plain text.\n",
    "\n",
    "**NOTE**: You may not have privileges to create groups or assign membership. Your instructor should be able to demonstrate how group membership will change query results."
   ]
  },
  {
   "cell_type": "code",
   "execution_count": 0,
   "metadata": {
    "application/vnd.databricks.v1+cell": {
     "cellMetadata": {},
     "inputWidgets": {},
     "nuid": "ce97f4d1-a59e-41aa-ba54-c4e39f746de1",
     "showTitle": false,
     "tableResultSettingsMap": {},
     "title": ""
    }
   },
   "outputs": [],
   "source": [
    "%sql\n",
    "SELECT * FROM users_vw"
   ]
  },
  {
   "cell_type": "markdown",
   "metadata": {
    "application/vnd.databricks.v1+cell": {
     "cellMetadata": {},
     "inputWidgets": {},
     "nuid": "5abf611e-06c7-463c-bdbf-3fde0adbc68d",
     "showTitle": false,
     "tableResultSettingsMap": {},
     "title": ""
    }
   },
   "source": [
    "## Adding Conditional Row Access\n",
    "\n",
    "Adding views with **`WHERE`** clauses to filter source data on different conditions for teams throughout an organization can be a beneficial option for granting access to only the necessary data to each audience. Dynamic views add the option to create these views with full access to underlying data for users with elevated privileges.\n",
    "\n",
    "Note the views can be layered on top of one another; below, the **`users_vw`** from the previous step is modified with conditional access. Users that aren't members of the specified group will only be able to see records from the city of Los Angeles that have been updated after the specified date."
   ]
  },
  {
   "cell_type": "code",
   "execution_count": 0,
   "metadata": {
    "application/vnd.databricks.v1+cell": {
     "cellMetadata": {},
     "inputWidgets": {},
     "nuid": "18d2a6d0-94e3-4ac6-bfcc-d05fa1444765",
     "showTitle": false,
     "tableResultSettingsMap": {},
     "title": ""
    }
   },
   "outputs": [],
   "source": [
    "%sql\n",
    "CREATE OR REPLACE VIEW users_la_vw AS\n",
    "SELECT * FROM users_vw\n",
    "WHERE \n",
    "  CASE \n",
    "    WHEN is_member('ade_demo') THEN TRUE\n",
    "    ELSE city = \"Los Angeles\" AND updated > \"2019-12-12\"\n",
    "  END"
   ]
  },
  {
   "cell_type": "code",
   "execution_count": 0,
   "metadata": {
    "application/vnd.databricks.v1+cell": {
     "cellMetadata": {},
     "inputWidgets": {},
     "nuid": "814f7beb-455c-4b93-a1d0-92b953b96631",
     "showTitle": false,
     "tableResultSettingsMap": {},
     "title": ""
    }
   },
   "outputs": [],
   "source": [
    "%sql\n",
    "SELECT * FROM users_la_vw"
   ]
  },
  {
   "cell_type": "markdown",
   "metadata": {
    "application/vnd.databricks.v1+cell": {
     "cellMetadata": {},
     "inputWidgets": {},
     "nuid": "e9eb2852-e548-4b62-be73-e6b04f979caa",
     "showTitle": false,
     "tableResultSettingsMap": {},
     "title": ""
    }
   },
   "source": [
    "## Provide Provisional Access to **`user_lookup`** Table\n",
    "\n",
    "Our **`user_lookup`** table allows our ETL pipelines to match up our various identifiers with our **`alt_id`** and pull demographic information, as necessary.\n",
    "\n",
    "Most of our team will not need access to our full PII, but may need to use this table to match up various natural keys from different systems.\n",
    "\n",
    "Define a dynamic view named **`user_lookup_vw`** below that provides conditional access to the **`alt_id`** but full access to the other info in our **`user_lookup`** table."
   ]
  },
  {
   "cell_type": "code",
   "execution_count": 0,
   "metadata": {
    "application/vnd.databricks.v1+cell": {
     "cellMetadata": {},
     "inputWidgets": {},
     "nuid": "0210d4cb-6dd3-4710-86ff-67497273ca1b",
     "showTitle": false,
     "tableResultSettingsMap": {},
     "title": ""
    }
   },
   "outputs": [],
   "source": [
    "%sql\n",
    "-- TODO\n",
    "CREATE OR REPLACE VIEW user_lookup_vw AS\n",
    "-- FILL_IN\n",
    "FROM user_lookup"
   ]
  },
  {
   "cell_type": "code",
   "execution_count": 0,
   "metadata": {
    "application/vnd.databricks.v1+cell": {
     "cellMetadata": {},
     "inputWidgets": {},
     "nuid": "d797268d-c4ec-4f2f-b607-509e5943a228",
     "showTitle": false,
     "tableResultSettingsMap": {},
     "title": ""
    }
   },
   "outputs": [],
   "source": [
    "%sql\n",
    "SELECT * FROM user_lookup_vw"
   ]
  },
  {
   "cell_type": "markdown",
   "metadata": {
    "application/vnd.databricks.v1+cell": {
     "cellMetadata": {},
     "inputWidgets": {},
     "nuid": "2957b450-8de8-4080-963c-caea19f3e296",
     "showTitle": false,
     "tableResultSettingsMap": {},
     "title": ""
    }
   },
   "source": [
    "## Generalize PII in Aggregate Tables\n",
    "\n",
    "Another approach to reducing chance of exposing PII is only providing access to data at a less specific level.\n",
    "\n",
    "In this section, we'll assign users to age bins while maintaining their gender, city, and state information. \n",
    "\n",
    "This will provide sufficient demographic information to build comparative dashboards without revealing specific user identity."
   ]
  },
  {
   "cell_type": "markdown",
   "metadata": {
    "application/vnd.databricks.v1+cell": {
     "cellMetadata": {},
     "inputWidgets": {},
     "nuid": "e49b5155-dae3-4157-8443-50221ad5d20e",
     "showTitle": false,
     "tableResultSettingsMap": {},
     "title": ""
    }
   },
   "source": [
    "Here we're just defining custom logic for replacing values with manually-specified labels."
   ]
  },
  {
   "cell_type": "code",
   "execution_count": 0,
   "metadata": {
    "application/vnd.databricks.v1+cell": {
     "cellMetadata": {},
     "inputWidgets": {},
     "nuid": "e40d6477-6bf5-47e1-82d4-48b61d0faedd",
     "showTitle": false,
     "tableResultSettingsMap": {},
     "title": ""
    }
   },
   "outputs": [],
   "source": [
    "def age_bins(dob_col):\n",
    "    age_col = F.floor(F.months_between(F.current_date(), dob_col)/12).alias(\"age\")\n",
    "    \n",
    "    return (F.when((age_col < 18), \"under 18\")\n",
    "             .when((age_col >= 18) & (age_col < 25), \"18-25\")\n",
    "             .when((age_col >= 25) & (age_col < 35), \"25-35\")\n",
    "             .when((age_col >= 35) & (age_col < 45), \"35-45\")\n",
    "             .when((age_col >= 45) & (age_col < 55), \"45-55\")\n",
    "             .when((age_col >= 55) & (age_col < 65), \"55-65\")\n",
    "             .when((age_col >= 65) & (age_col < 75), \"65-75\")\n",
    "             .when((age_col >= 75) & (age_col < 85), \"75-85\")\n",
    "             .when((age_col >= 85) & (age_col < 95), \"85-95\")\n",
    "             .when((age_col >= 95), \"95+\")\n",
    "             .otherwise(\"invalid age\").alias(\"age\"))"
   ]
  },
  {
   "cell_type": "markdown",
   "metadata": {
    "application/vnd.databricks.v1+cell": {
     "cellMetadata": {},
     "inputWidgets": {},
     "nuid": "ebbe7131-76a5-4862-a8cd-24508eb6a48a",
     "showTitle": false,
     "tableResultSettingsMap": {},
     "title": ""
    }
   },
   "source": [
    "Because this aggregate view of demographic information is no longer personally identifiable, we can safely store this using our natural key.\n",
    "\n",
    "We'll reference our **`user_lookup`** table to match our IDs."
   ]
  },
  {
   "cell_type": "code",
   "execution_count": 0,
   "metadata": {
    "application/vnd.databricks.v1+cell": {
     "cellMetadata": {},
     "inputWidgets": {},
     "nuid": "960615ee-d19b-4c19-bae6-374dc552a56f",
     "showTitle": false,
     "tableResultSettingsMap": {},
     "title": ""
    }
   },
   "outputs": [],
   "source": [
    "from pyspark.sql import functions as F\n",
    "\n",
    "users_df = spark.table(\"users\")\n",
    "lookup_df = spark.table(\"user_lookup\").select(\"alt_id\", \"user_id\")\n",
    "\n",
    "bins_df = users_df.join(lookup_df, [\"alt_id\"], \"left\").select(\"user_id\", age_bins(F.col(\"dob\")),\"gender\", \"city\", \"state\")"
   ]
  },
  {
   "cell_type": "code",
   "execution_count": 0,
   "metadata": {
    "application/vnd.databricks.v1+cell": {
     "cellMetadata": {},
     "inputWidgets": {},
     "nuid": "30a711f7-07b1-461d-af6f-d394f9f23db2",
     "showTitle": false,
     "tableResultSettingsMap": {},
     "title": ""
    }
   },
   "outputs": [],
   "source": [
    "display(bins_df)"
   ]
  },
  {
   "cell_type": "markdown",
   "metadata": {
    "application/vnd.databricks.v1+cell": {
     "cellMetadata": {},
     "inputWidgets": {},
     "nuid": "254a3f3f-949e-46a5-9176-d300c209872c",
     "showTitle": false,
     "tableResultSettingsMap": {},
     "title": ""
    }
   },
   "source": [
    "This binned demographic data will be saved to a table for our analysts to reference."
   ]
  },
  {
   "cell_type": "code",
   "execution_count": 0,
   "metadata": {
    "application/vnd.databricks.v1+cell": {
     "cellMetadata": {},
     "inputWidgets": {},
     "nuid": "4586d312-ea61-495d-95d9-0b02539dcddc",
     "showTitle": false,
     "tableResultSettingsMap": {},
     "title": ""
    }
   },
   "outputs": [],
   "source": [
    "(bins_df.write\n",
    "        .format(\"delta\")\n",
    "        .option(\"path\", f\"{DA.paths.working_dir}/user_bins\")\n",
    "        .mode(\"overwrite\")\n",
    "        .saveAsTable(\"user_bins\"))"
   ]
  },
  {
   "cell_type": "code",
   "execution_count": 0,
   "metadata": {
    "application/vnd.databricks.v1+cell": {
     "cellMetadata": {},
     "inputWidgets": {},
     "nuid": "0cac0123-12b6-435e-8b26-cbe89a46d2f6",
     "showTitle": false,
     "tableResultSettingsMap": {},
     "title": ""
    }
   },
   "outputs": [],
   "source": [
    "%sql\n",
    "SELECT * FROM user_bins"
   ]
  },
  {
   "cell_type": "markdown",
   "metadata": {
    "application/vnd.databricks.v1+cell": {
     "cellMetadata": {},
     "inputWidgets": {},
     "nuid": "4ddd4ea2-e3e5-4f18-b95f-b8ca51b2c4e1",
     "showTitle": false,
     "tableResultSettingsMap": {},
     "title": ""
    }
   },
   "source": [
    "Note that as currently implemented, each time this logic is processed, all records will be overwritten with newly calculated values. To decrease chances of identifying birth date at binned boundaries, random noise could be added to the values used to calculate age bins (generally keeping age bins accurate, but reducing the likelihood of transitioning a user to a new bin on their exact birthday)."
   ]
  },
  {
   "cell_type": "markdown",
   "metadata": {
    "application/vnd.databricks.v1+cell": {
     "cellMetadata": {},
     "inputWidgets": {},
     "nuid": "487d66e1-f8a3-4003-bd66-771f62fee463",
     "showTitle": false,
     "tableResultSettingsMap": {},
     "title": ""
    }
   },
   "source": [
    "Run the following cell to delete the tables and files associated with this lesson."
   ]
  },
  {
   "cell_type": "code",
   "execution_count": 0,
   "metadata": {
    "application/vnd.databricks.v1+cell": {
     "cellMetadata": {},
     "inputWidgets": {},
     "nuid": "9d6aa2a3-0950-448c-8eb0-989cab11682c",
     "showTitle": false,
     "tableResultSettingsMap": {},
     "title": ""
    }
   },
   "outputs": [],
   "source": [
    "DA.cleanup()"
   ]
  },
  {
   "cell_type": "markdown",
   "metadata": {
    "application/vnd.databricks.v1+cell": {
     "cellMetadata": {},
     "inputWidgets": {},
     "nuid": "4de4450d-4378-48b6-8319-7d146c8dceec",
     "showTitle": false,
     "tableResultSettingsMap": {},
     "title": ""
    }
   },
   "source": [
    "&copy; 2022 Databricks, Inc. All rights reserved.<br/>\n",
    "Apache, Apache Spark, Spark and the Spark logo are trademarks of the <a href=\"https://www.apache.org/\">Apache Software Foundation</a>.<br/>\n",
    "<br/>\n",
    "<a href=\"https://databricks.com/privacy-policy\">Privacy Policy</a> | <a href=\"https://databricks.com/terms-of-use\">Terms of Use</a> | <a href=\"https://help.databricks.com/\">Support</a>"
   ]
  }
 ],
 "metadata": {
  "application/vnd.databricks.v1+notebook": {
   "computePreferences": null,
   "dashboards": [],
   "environmentMetadata": null,
   "inputWidgetPreferences": null,
   "language": "python",
   "notebookMetadata": {
    "pythonIndentUnit": 2
   },
   "notebookName": "ADE 5.3 - Deidentified PII Access",
   "widgets": {}
  },
  "language_info": {
   "name": "python"
  }
 },
 "nbformat": 4,
 "nbformat_minor": 0
}