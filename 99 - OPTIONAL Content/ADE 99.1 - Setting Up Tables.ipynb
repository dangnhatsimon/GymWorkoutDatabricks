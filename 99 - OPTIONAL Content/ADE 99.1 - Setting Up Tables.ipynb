{
 "cells": [
  {
   "cell_type": "markdown",
   "metadata": {
    "application/vnd.databricks.v1+cell": {
     "cellMetadata": {},
     "inputWidgets": {},
     "nuid": "7cb1ddcb-732a-47ea-93ab-cd4a8124ef56",
     "showTitle": false,
     "tableResultSettingsMap": {},
     "title": ""
    }
   },
   "source": [
    "\n",
    "<div style=\"text-align: center; line-height: 0; padding-top: 9px;\">\n",
    "  <img src=\"https://databricks.com/wp-content/uploads/2018/03/db-academy-rgb-1200px.png\" alt=\"Databricks Learning\" style=\"width: 600px\">\n",
    "</div>"
   ]
  },
  {
   "cell_type": "markdown",
   "metadata": {
    "application/vnd.databricks.v1+cell": {
     "cellMetadata": {},
     "inputWidgets": {},
     "nuid": "862c46ed-2d5c-4e93-8b35-fd872d7358be",
     "showTitle": false,
     "tableResultSettingsMap": {},
     "title": ""
    }
   },
   "source": [
    "# Setting Up Tables\n",
    "Managing database and table metadata, locations, and configurations at the beginning of project can help to increase data security, discoverability, and performance.\n",
    "\n",
    "Databricks allows you to store additional information about your databases and tables in a number of locations. This notebook reviews the basics of table and database declaration while introducing various options.\n",
    "\n",
    "## Learning Objectives\n",
    "By the end of this notebook, students will be able to:\n",
    "- Set database locations\n",
    "- Specify database comments\n",
    "- Set table locations\n",
    "- Specify table comments\n",
    "- Specify column comments\n",
    "- Use table properties for custom tagging\n",
    "- Explore table metadata"
   ]
  },
  {
   "cell_type": "markdown",
   "metadata": {
    "application/vnd.databricks.v1+cell": {
     "cellMetadata": {},
     "inputWidgets": {},
     "nuid": "097d5a35-367b-43ca-80cc-33cf72117426",
     "showTitle": false,
     "tableResultSettingsMap": {},
     "title": ""
    }
   },
   "source": [
    "## Classroom Setup\n",
    "\n",
    "As we saw in the previous lesson, we need to execute the following script to configure our learning environment."
   ]
  },
  {
   "cell_type": "code",
   "execution_count": 0,
   "metadata": {
    "application/vnd.databricks.v1+cell": {
     "cellMetadata": {},
     "inputWidgets": {},
     "nuid": "685011d2-bf6c-4772-87ef-d37d53549333",
     "showTitle": false,
     "tableResultSettingsMap": {},
     "title": ""
    }
   },
   "outputs": [],
   "source": [
    "%run ../Includes/Classroom-Setup-1.1"
   ]
  },
  {
   "cell_type": "markdown",
   "metadata": {
    "application/vnd.databricks.v1+cell": {
     "cellMetadata": {},
     "inputWidgets": {},
     "nuid": "33498ec2-1d47-4cb7-abc9-62ff5864de4f",
     "showTitle": false,
     "tableResultSettingsMap": {},
     "title": ""
    }
   },
   "source": [
    "## Important Database Options\n",
    "\n",
    "The single most important option when creating a new database is the **`LOCATION`**. Because all managed tables will have their data files stored in this location, modifying the location of a database after initial declaration can require migration of many data files. Using an improper location can potentially store data in an unsecured location and lead to data exfiltration or deletion.\n",
    "\n",
    "The database **`COMMENT`** option allows an arbitrary description to be provided for the database. This can be useful for both discovery and auditing purposes.\n",
    "\n",
    "The **`DBPROPERTIES`** option allows user-defined keys to be specified for the database. This can be useful for creating tags that will be used in auditing. Note that this field may also contain options used elsewhere in Databricks to govern default behavior for the database."
   ]
  },
  {
   "cell_type": "markdown",
   "metadata": {
    "application/vnd.databricks.v1+cell": {
     "cellMetadata": {},
     "inputWidgets": {},
     "nuid": "c37b6f54-a063-495a-988a-514ce24368a8",
     "showTitle": false,
     "tableResultSettingsMap": {},
     "title": ""
    }
   },
   "source": [
    "## Creating a Database with Options\n",
    "\n",
    "The following cell demonstrates the syntax for creating a database while:\n",
    "1. Setting a database comment\n",
    "1. Specifying a database location\n",
    "1. Adding an arbitrary key-value pair as a database property\n",
    "\n",
    "An arbitrary directory on the DBFS root is being used for the location; in any stage of development or production, it is best practice to create databases in secure cloud object storage with credentials locked down to appropriate teams within the organization."
   ]
  },
  {
   "cell_type": "code",
   "execution_count": 0,
   "metadata": {
    "application/vnd.databricks.v1+cell": {
     "cellMetadata": {},
     "inputWidgets": {},
     "nuid": "b614b137-8cb6-4d28-aff8-be1ce42a2101",
     "showTitle": false,
     "tableResultSettingsMap": {},
     "title": ""
    }
   },
   "outputs": [],
   "source": [
    "%sql\n",
    "CREATE DATABASE IF NOT EXISTS ${da.db_name}\n",
    "COMMENT \"This is a test database\"\n",
    "LOCATION \"${da.paths.user_db}\"\n",
    "WITH DBPROPERTIES (contains_pii = true)"
   ]
  },
  {
   "cell_type": "markdown",
   "metadata": {
    "application/vnd.databricks.v1+cell": {
     "cellMetadata": {},
     "inputWidgets": {},
     "nuid": "ec0a8813-e437-4735-a170-32df5a11fa8f",
     "showTitle": false,
     "tableResultSettingsMap": {},
     "title": ""
    }
   },
   "source": [
    "All of the comments and properties set during database declaration can be reviewed using **`DESCRIBE DATABASE EXTENDED`**.\n",
    "\n",
    "This information can aid in data discovery, auditing, and governance. Having proactive rules about how databases will be created and tagged can help prevent accidental data exfiltration, redundancies, and deletions."
   ]
  },
  {
   "cell_type": "code",
   "execution_count": 0,
   "metadata": {
    "application/vnd.databricks.v1+cell": {
     "cellMetadata": {},
     "inputWidgets": {},
     "nuid": "e2e5ce40-3932-4fc3-8bac-a2f071eaafc8",
     "showTitle": false,
     "tableResultSettingsMap": {},
     "title": ""
    }
   },
   "outputs": [],
   "source": [
    "%sql\n",
    "DESCRIBE DATABASE EXTENDED ${da.db_name}"
   ]
  },
  {
   "cell_type": "markdown",
   "metadata": {
    "application/vnd.databricks.v1+cell": {
     "cellMetadata": {},
     "inputWidgets": {},
     "nuid": "457e0976-2678-4107-90ed-9898bf1f4c9d",
     "showTitle": false,
     "tableResultSettingsMap": {},
     "title": ""
    }
   },
   "source": [
    "## Important Table Options\n",
    "\n",
    "The **`LOCATION`** keyword also plays a pivotal role when declaring tables, as it determines whether a table is **managed** or **external**. Note that explicitly providing a location will always result in an external table, even if this location maps directly to the directory that would be used by default.\n",
    "\n",
    "Tables also have the **`COMMENT`** option to provide a table description.\n",
    "\n",
    "Tables have the **`TBLPROPERTIES`** option that can also contain user-defined tags. All Delta Lake tables will have some default options stored to this field, and many customizations for Delta behavior will be reflected here.\n",
    "\n",
    "Users can also define a **`COMMENT`** for an individual column."
   ]
  },
  {
   "cell_type": "markdown",
   "metadata": {
    "application/vnd.databricks.v1+cell": {
     "cellMetadata": {},
     "inputWidgets": {},
     "nuid": "616a59bc-32ed-44e3-b66e-6ee427589de0",
     "showTitle": false,
     "tableResultSettingsMap": {},
     "title": ""
    }
   },
   "source": [
    "## Creating a Table with Options\n",
    "The following cell demonstrates creating a **managed** Delta Lake table while:\n",
    "1. Setting a column comment\n",
    "1. Setting a table comment\n",
    "1. Adding an arbitrary key-value pair as a table property"
   ]
  },
  {
   "cell_type": "code",
   "execution_count": 0,
   "metadata": {
    "application/vnd.databricks.v1+cell": {
     "cellMetadata": {},
     "inputWidgets": {},
     "nuid": "ae945483-c098-46c9-a82e-e48ecf2142dd",
     "showTitle": false,
     "tableResultSettingsMap": {},
     "title": ""
    }
   },
   "outputs": [],
   "source": [
    "%sql\n",
    "CREATE TABLE IF NOT EXISTS ${da.db_name}.pii_test\n",
    "(id INT, name STRING COMMENT \"PII\")\n",
    "COMMENT \"Contains PII\"\n",
    "TBLPROPERTIES ('contains_pii' = True) "
   ]
  },
  {
   "cell_type": "markdown",
   "metadata": {
    "application/vnd.databricks.v1+cell": {
     "cellMetadata": {},
     "inputWidgets": {},
     "nuid": "f7b4b1c3-a2e1-4b2f-b0fe-fce46c2100cd",
     "showTitle": false,
     "tableResultSettingsMap": {},
     "title": ""
    }
   },
   "source": [
    "Much like the command for reviewing database metadata settings, **`DESCRIBE EXTENDED`** allows users to see all of the comments and properties for a given table.\n",
    "\n",
    "**NOTE**: Delta Lake automatically adds several table properties on table creation."
   ]
  },
  {
   "cell_type": "code",
   "execution_count": 0,
   "metadata": {
    "application/vnd.databricks.v1+cell": {
     "cellMetadata": {},
     "inputWidgets": {},
     "nuid": "e646db3e-b2b4-4860-a570-f6ad7ecdad93",
     "showTitle": false,
     "tableResultSettingsMap": {},
     "title": ""
    }
   },
   "outputs": [],
   "source": [
    "%sql\n",
    "DESCRIBE EXTENDED ${da.db_name}.pii_test"
   ]
  },
  {
   "cell_type": "markdown",
   "metadata": {
    "application/vnd.databricks.v1+cell": {
     "cellMetadata": {},
     "inputWidgets": {},
     "nuid": "5308103f-8ff6-45c8-a5ba-4e4e23a23f59",
     "showTitle": false,
     "tableResultSettingsMap": {},
     "title": ""
    }
   },
   "source": [
    "Below the code from above is replicated with the addition of specifying a location, creating an **external** table.\n",
    "\n",
    "**NOTE**: The only thing that differentiates managed and external tables is this location setting. Performance of managed and external tables should be equivalent with regards to latency, but the results of SQL DDL statements on these tables differ drastically."
   ]
  },
  {
   "cell_type": "code",
   "execution_count": 0,
   "metadata": {
    "application/vnd.databricks.v1+cell": {
     "cellMetadata": {},
     "inputWidgets": {},
     "nuid": "16964bf6-0460-4ad8-a365-7bf8952063a0",
     "showTitle": false,
     "tableResultSettingsMap": {},
     "title": ""
    }
   },
   "outputs": [],
   "source": [
    "%sql\n",
    "CREATE TABLE IF NOT EXISTS ${da.db_name}.pii_test_2\n",
    "(id INT, name STRING COMMENT \"PII\")\n",
    "COMMENT \"Contains PII\"\n",
    "LOCATION \"${da.paths.working_dir}/pii_test_2\"\n",
    "TBLPROPERTIES ('contains_pii' = True) "
   ]
  },
  {
   "cell_type": "markdown",
   "metadata": {
    "application/vnd.databricks.v1+cell": {
     "cellMetadata": {},
     "inputWidgets": {},
     "nuid": "9ec84630-6906-4963-9ec9-4345b7e80e9f",
     "showTitle": false,
     "tableResultSettingsMap": {},
     "title": ""
    }
   },
   "source": [
    "As expected, the only differences in the extended description of the table have to do with the table location and type."
   ]
  },
  {
   "cell_type": "code",
   "execution_count": 0,
   "metadata": {
    "application/vnd.databricks.v1+cell": {
     "cellMetadata": {},
     "inputWidgets": {},
     "nuid": "a812e5a6-3223-4ee2-8c7c-07660b96a429",
     "showTitle": false,
     "tableResultSettingsMap": {},
     "title": ""
    }
   },
   "outputs": [],
   "source": [
    "%sql\n",
    "DESCRIBE EXTENDED ${da.db_name}.pii_test_2"
   ]
  },
  {
   "cell_type": "markdown",
   "metadata": {
    "application/vnd.databricks.v1+cell": {
     "cellMetadata": {},
     "inputWidgets": {},
     "nuid": "ac67fe1a-1010-4dd6-a519-eb3539905824",
     "showTitle": false,
     "tableResultSettingsMap": {},
     "title": ""
    }
   },
   "source": [
    "## Using Table Metadata\n",
    "\n",
    "Assuming that rules are followed appropriately when creating databases and tables, comments, table properties, and other metadata can be interacted with programmatically for discovering datasets for governance and auditing purposes.\n",
    "\n",
    "The Python code below demonstrates parsing the table properties field, filtering those options that are specifically geared toward controlling Delta Lake behavior. In this case, logic could be written to further parse these properties to identify all tables in a database that contain PII."
   ]
  },
  {
   "cell_type": "code",
   "execution_count": 0,
   "metadata": {
    "application/vnd.databricks.v1+cell": {
     "cellMetadata": {},
     "inputWidgets": {},
     "nuid": "f38e8a9c-e1a3-4c66-89d6-756035015392",
     "showTitle": false,
     "tableResultSettingsMap": {},
     "title": ""
    }
   },
   "outputs": [],
   "source": [
    "def parse_table_keys(database, table=None):\n",
    "    table_keys = {}\n",
    "    if table:\n",
    "        query = f\"SHOW TABLES IN {DA.db_name} LIKE '{table}'\"\n",
    "    else:\n",
    "        query = f\"SHOW TABLES IN {DA.db_name}\"\n",
    "    for table_item in spark.sql(query).collect():\n",
    "        table_name = table_item[1]\n",
    "        key_values = spark.sql(f\"DESCRIBE EXTENDED {DA.db_name}.{table_name}\").filter(\"col_name = 'Table Properties'\").collect()[0][1][1:-1].split(\",\")\n",
    "        table_keys[table_name] = [kv for kv in key_values if not kv.startswith(\"delta.\")]\n",
    "    return table_keys\n",
    "\n",
    "parse_table_keys(DA.db_name)   "
   ]
  },
  {
   "cell_type": "markdown",
   "metadata": {
    "application/vnd.databricks.v1+cell": {
     "cellMetadata": {},
     "inputWidgets": {},
     "nuid": "0e8c131f-466a-4e11-81bd-33345525ef2f",
     "showTitle": false,
     "tableResultSettingsMap": {},
     "title": ""
    }
   },
   "source": [
    "## Code Challenge\n",
    "\n",
    "Use the following cell to:\n",
    "1. Create a new **managed** table\n",
    "1. Using the database and table name provided\n",
    "1. Define 4 columns with <a href=\"https://spark.apache.org/docs/latest/sql-ref-datatypes.html\" target=\"_blank\">any valid data type</a>\n",
    "1. Add a table comment\n",
    "1. Use the **`TBLPROPERTIES`** option to set the key-value pair **`'contains_pii' = False`**"
   ]
  },
  {
   "cell_type": "code",
   "execution_count": 0,
   "metadata": {
    "application/vnd.databricks.v1+cell": {
     "cellMetadata": {},
     "inputWidgets": {},
     "nuid": "39406ff6-2f64-4ad9-8056-483e428e1e55",
     "showTitle": false,
     "tableResultSettingsMap": {},
     "title": ""
    }
   },
   "outputs": [],
   "source": [
    "%sql\n",
    "-- TODO\n",
    "<FILL_IN> ${da.db_name}.challenge\n",
    "<FILL_IN>"
   ]
  },
  {
   "cell_type": "markdown",
   "metadata": {
    "application/vnd.databricks.v1+cell": {
     "cellMetadata": {},
     "inputWidgets": {},
     "nuid": "1b9fb76a-bd55-4f66-8087-e0ffdc0c81c8",
     "showTitle": false,
     "tableResultSettingsMap": {},
     "title": ""
    }
   },
   "source": [
    "Run the checks below to confirm this:"
   ]
  },
  {
   "cell_type": "code",
   "execution_count": 0,
   "metadata": {
    "application/vnd.databricks.v1+cell": {
     "cellMetadata": {},
     "inputWidgets": {},
     "nuid": "f5fe72c3-6236-46a1-a7c7-ea6c87121060",
     "showTitle": false,
     "tableResultSettingsMap": {},
     "title": ""
    }
   },
   "outputs": [],
   "source": [
    "assert len(spark.sql(f\"SHOW TABLES IN {DA.db_name} LIKE 'challenge'\").collect()) > 0, f\"Table 'challenge' not in {da.db_name}\"\n",
    "assert parse_table_keys(DA.db_name, 'challenge') == {'challenge': ['contains_pii=false']}, \"PII flag not set correctly\"\n",
    "assert len(spark.table(f\"{DA.db_name}.challenge\").columns) == 4, \"Table does not have 4 columns\"\n",
    "assert [x.tableType for x in spark.catalog.listTables(DA.db_name) if x.name==\"challenge\"] == [\"MANAGED\"], \"Table is not managed\"\n",
    "assert spark.sql(f\"DESCRIBE EXTENDED {DA.db_name}.challenge\").filter(\"col_name = 'Comment'\").collect() != [], \"Table comment not set\"\n",
    "print(\"All tests passed.\")"
   ]
  },
  {
   "cell_type": "markdown",
   "metadata": {
    "application/vnd.databricks.v1+cell": {
     "cellMetadata": {},
     "inputWidgets": {},
     "nuid": "abfab2a3-a5cb-43f1-84ec-ae7c250a920a",
     "showTitle": false,
     "tableResultSettingsMap": {},
     "title": ""
    }
   },
   "source": [
    "Run the following cell to delete the tables and files associated with this lesson."
   ]
  },
  {
   "cell_type": "code",
   "execution_count": 0,
   "metadata": {
    "application/vnd.databricks.v1+cell": {
     "cellMetadata": {},
     "inputWidgets": {},
     "nuid": "f15225a1-2f37-4023-baf7-6de309a33465",
     "showTitle": false,
     "tableResultSettingsMap": {},
     "title": ""
    }
   },
   "outputs": [],
   "source": [
    "DA.cleanup()"
   ]
  },
  {
   "cell_type": "markdown",
   "metadata": {
    "application/vnd.databricks.v1+cell": {
     "cellMetadata": {},
     "inputWidgets": {},
     "nuid": "053cdb46-ca5f-43a3-8b07-e8cae3430983",
     "showTitle": false,
     "tableResultSettingsMap": {},
     "title": ""
    }
   },
   "source": [
    "&copy; 2022 Databricks, Inc. All rights reserved.<br/>\n",
    "Apache, Apache Spark, Spark and the Spark logo are trademarks of the <a href=\"https://www.apache.org/\">Apache Software Foundation</a>.<br/>\n",
    "<br/>\n",
    "<a href=\"https://databricks.com/privacy-policy\">Privacy Policy</a> | <a href=\"https://databricks.com/terms-of-use\">Terms of Use</a> | <a href=\"https://help.databricks.com/\">Support</a>"
   ]
  }
 ],
 "metadata": {
  "application/vnd.databricks.v1+notebook": {
   "computePreferences": null,
   "dashboards": [],
   "environmentMetadata": null,
   "inputWidgetPreferences": null,
   "language": "python",
   "notebookMetadata": {
    "pythonIndentUnit": 2
   },
   "notebookName": "ADE 99.1 - Setting Up Tables",
   "widgets": {}
  },
  "language_info": {
   "name": "python"
  }
 },
 "nbformat": 4,
 "nbformat_minor": 0
}