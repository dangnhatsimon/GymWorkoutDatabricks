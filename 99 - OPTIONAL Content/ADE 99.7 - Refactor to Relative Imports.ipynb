{
 "cells": [
  {
   "cell_type": "markdown",
   "metadata": {
    "application/vnd.databricks.v1+cell": {
     "cellMetadata": {},
     "inputWidgets": {},
     "nuid": "bfb89e0f-e9d0-4a92-b52c-732df47942ab",
     "showTitle": false,
     "tableResultSettingsMap": {},
     "title": ""
    }
   },
   "source": [
    "\n",
    "<div style=\"text-align: center; line-height: 0; padding-top: 9px;\">\n",
    "  <img src=\"https://databricks.com/wp-content/uploads/2018/03/db-academy-rgb-1200px.png\" alt=\"Databricks Learning\" style=\"width: 600px\">\n",
    "</div>"
   ]
  },
  {
   "cell_type": "markdown",
   "metadata": {
    "application/vnd.databricks.v1+cell": {
     "cellMetadata": {},
     "inputWidgets": {},
     "nuid": "15e8c66e-f4f2-42ed-8820-a3896531efc4",
     "showTitle": false,
     "tableResultSettingsMap": {},
     "title": ""
    }
   },
   "source": [
    "# Refactoring to Relative Imports Demo\n",
    "\n",
    "Import this Git repo into your Databricks workspace: [cli-demo](https://github.com/databricks-academy/cli-demo)\n",
    "\n",
    "Then, navigate to the following notebooks to access demo instructions for this lesson.\n",
    "\n",
    "| Demo | Notebook Path |\n",
    "| --- | --- |\n",
    "| Refactor %run to Relative Imports | [cli-demo/notebooks/00_refactoring_to_relative_import](https://github.com/databricks-academy/cli-demo/blob/published/notebooks/00_refactoring_to_relative_import.py) |\n",
    "| Relative Imports with Python Wheel | [cli-demo/notebooks/01_installing_from_a_wheel](https://github.com/databricks-academy/cli-demo/blob/published/notebooks/01_installing_from_a_wheel.py) |"
   ]
  },
  {
   "cell_type": "markdown",
   "metadata": {
    "application/vnd.databricks.v1+cell": {
     "cellMetadata": {},
     "inputWidgets": {},
     "nuid": "96880a2b-2461-43a5-9ed8-b0cffd2e4bc4",
     "showTitle": false,
     "tableResultSettingsMap": {},
     "title": ""
    }
   },
   "source": [
    "&copy; 2022 Databricks, Inc. All rights reserved.<br/>\n",
    "Apache, Apache Spark, Spark and the Spark logo are trademarks of the <a href=\"https://www.apache.org/\">Apache Software Foundation</a>.<br/>\n",
    "<br/>\n",
    "<a href=\"https://databricks.com/privacy-policy\">Privacy Policy</a> | <a href=\"https://databricks.com/terms-of-use\">Terms of Use</a> | <a href=\"https://help.databricks.com/\">Support</a>"
   ]
  }
 ],
 "metadata": {
  "application/vnd.databricks.v1+notebook": {
   "computePreferences": null,
   "dashboards": [],
   "environmentMetadata": null,
   "inputWidgetPreferences": null,
   "language": "python",
   "notebookMetadata": {
    "pythonIndentUnit": 2
   },
   "notebookName": "ADE 99.7 - Refactor to Relative Imports",
   "widgets": {}
  },
  "language_info": {
   "name": "python"
  }
 },
 "nbformat": 4,
 "nbformat_minor": 0
}