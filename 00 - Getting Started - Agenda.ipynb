{
 "cells": [
  {
   "cell_type": "markdown",
   "metadata": {
    "application/vnd.databricks.v1+cell": {
     "cellMetadata": {},
     "inputWidgets": {},
     "nuid": "3d5dfd0c-fad4-4e4e-94d2-92bf86d42e44",
     "showTitle": false,
     "tableResultSettingsMap": {},
     "title": ""
    }
   },
   "source": [
    "\n",
    "<div style=\"text-align: center; line-height: 0; padding-top: 9px;\">\n",
    "  <img src=\"https://databricks.com/wp-content/uploads/2018/03/db-academy-rgb-1200px.png\" alt=\"Databricks Learning\" style=\"width: 600px\">\n",
    "</div>"
   ]
  },
  {
   "cell_type": "markdown",
   "metadata": {
    "application/vnd.databricks.v1+cell": {
     "cellMetadata": {},
     "inputWidgets": {},
     "nuid": "80831873-bf14-4f76-86a1-18cd371ced34",
     "showTitle": false,
     "tableResultSettingsMap": {},
     "title": ""
    }
   },
   "source": [
    "# Getting Started\n",
    "\n",
    "In this lesson we will introduce our courseware, various conventions and finally review this course's agenda.\n",
    "\n",
    "## Learning Objectives\n",
    "By the end of this notebook, students will be able to:\n",
    "- Configure the learning environment by running the **`Classroom-Setup`** scripts.\n",
    "- Identify Python and Hive variables provided by the courseware.\n",
    "- Identify utility functions provided by the courseware\n",
    "- Install the datasets used by this course\n",
    "- Enumerate the modules and lessons covered by this course."
   ]
  },
  {
   "cell_type": "markdown",
   "metadata": {
    "application/vnd.databricks.v1+cell": {
     "cellMetadata": {},
     "inputWidgets": {},
     "nuid": "cfb37735-c920-41cb-abd5-11f29d82344b",
     "showTitle": false,
     "tableResultSettingsMap": {},
     "title": ""
    }
   },
   "source": [
    "## Classroom-Setup\n",
    "\n",
    "For each lesson to execute correctly, please make sure to run the **`Classroom-Setup`** cell at the start of each lesson.\n",
    "\n",
    "These setup scripts configure different assets in the workspace as needed for each lesson"
   ]
  },
  {
   "cell_type": "code",
   "execution_count": 0,
   "metadata": {
    "application/vnd.databricks.v1+cell": {
     "cellMetadata": {},
     "inputWidgets": {},
     "nuid": "2512b166-4a5a-4b46-b6e9-26e9833da02c",
     "showTitle": false,
     "tableResultSettingsMap": {},
     "title": ""
    }
   },
   "outputs": [],
   "source": [
    "%run ./Includes/Classroom-Setup"
   ]
  },
  {
   "cell_type": "markdown",
   "metadata": {
    "application/vnd.databricks.v1+cell": {
     "cellMetadata": {},
     "inputWidgets": {},
     "nuid": "d2712019-ea3f-4d11-9111-db8d946944ad",
     "showTitle": false,
     "tableResultSettingsMap": {},
     "title": ""
    }
   },
   "source": [
    "## Courseware Conventions\n",
    "\n",
    "While not a pattern that is generally recommended, these notebooks will use various Hive variables to substitute in various values.\n",
    "\n",
    "In this example, we can see the database name, your prescribed working directory and the location of your database.\n",
    "\n",
    "These and other values are designed to avoid collisions between each student when creating databases and tables and writing files.\n",
    "\n",
    "The following cell demonstrates this pattern."
   ]
  },
  {
   "cell_type": "code",
   "execution_count": 0,
   "metadata": {
    "application/vnd.databricks.v1+cell": {
     "cellMetadata": {},
     "inputWidgets": {},
     "nuid": "d7bb3630-a1a4-4a05-aff7-75a28f1de70c",
     "showTitle": false,
     "tableResultSettingsMap": {},
     "title": ""
    }
   },
   "outputs": [],
   "source": [
    "%sql\n",
    "SELECT '${da.db_name}' as db_name, \n",
    "       '${da.paths.working_dir}' as working_dir,\n",
    "       '${da.paths.user_db}' as user_db_path"
   ]
  },
  {
   "cell_type": "markdown",
   "metadata": {
    "application/vnd.databricks.v1+cell": {
     "cellMetadata": {},
     "inputWidgets": {},
     "nuid": "959cc143-ea5f-4bf4-8988-fd75ae319469",
     "showTitle": false,
     "tableResultSettingsMap": {},
     "title": ""
    }
   },
   "source": [
    "Simmilarly, these values are availble in Python as we can see below."
   ]
  },
  {
   "cell_type": "code",
   "execution_count": 0,
   "metadata": {
    "application/vnd.databricks.v1+cell": {
     "cellMetadata": {},
     "inputWidgets": {},
     "nuid": "59f80446-9f66-42d8-92bf-44b5b228fa84",
     "showTitle": false,
     "tableResultSettingsMap": {},
     "title": ""
    }
   },
   "outputs": [],
   "source": [
    "print(f\"User Database:     {DA.db_name}\")\n",
    "print(f\"Working Directory: {DA.paths.working_dir}\")\n",
    "print(f\"User DB Path:      {DA.paths.user_db}\")"
   ]
  },
  {
   "cell_type": "markdown",
   "metadata": {
    "application/vnd.databricks.v1+cell": {
     "cellMetadata": {},
     "inputWidgets": {},
     "nuid": "5cdabc4c-0961-43aa-9b8e-8b423eed32f8",
     "showTitle": false,
     "tableResultSettingsMap": {},
     "title": ""
    }
   },
   "source": [
    "There are two important things to note here:\n",
    "1. The difference in case between Python variables and Hive variables: upper vs lower case\n",
    "2. The subtle difference in how Python and Hive SQL implement string interpolation: **`{python_variable}`** vs **`${hive_variable}`**"
   ]
  },
  {
   "cell_type": "markdown",
   "metadata": {
    "application/vnd.databricks.v1+cell": {
     "cellMetadata": {},
     "inputWidgets": {},
     "nuid": "7b8717fa-f993-48ae-a87b-de7bef7cb3d1",
     "showTitle": false,
     "tableResultSettingsMap": {},
     "title": ""
    }
   },
   "source": [
    "Throughout this course you will see various references to **`DA...`** and **`da...`**, all a reference to Databricks Academy.\n",
    "\n",
    "In all cases, these values and functions are provided by this course for educational purposes and are not part of any core API."
   ]
  },
  {
   "cell_type": "markdown",
   "metadata": {
    "application/vnd.databricks.v1+cell": {
     "cellMetadata": {},
     "inputWidgets": {},
     "nuid": "ee820dd7-450d-42d6-9438-b34c352a0e92",
     "showTitle": false,
     "tableResultSettingsMap": {},
     "title": ""
    }
   },
   "source": [
    "## Install Datasets\n",
    "\n",
    "Next, we need to \"install\" the datasets this course uses by copying them from their current location in the cloud to a location relative to your workspace.\n",
    "\n",
    "All that is required is to run the following cell. \n",
    "\n",
    "By default, the **`install_datasets()`** function will not reinstall the datasets upon subsequent invocation but this behavior can be adjusted by modifying the parameters below."
   ]
  },
  {
   "cell_type": "code",
   "execution_count": 0,
   "metadata": {
    "application/vnd.databricks.v1+cell": {
     "cellMetadata": {},
     "inputWidgets": {},
     "nuid": "f36069e3-5bd8-41fa-b47b-2f1617f90ceb",
     "showTitle": false,
     "tableResultSettingsMap": {},
     "title": ""
    }
   },
   "outputs": [],
   "source": [
    "DA.install_datasets(reinstall=False)"
   ]
  },
  {
   "cell_type": "markdown",
   "metadata": {
    "application/vnd.databricks.v1+cell": {
     "cellMetadata": {},
     "inputWidgets": {},
     "nuid": "47c05413-bd42-45df-a517-5ff7ea9409c9",
     "showTitle": false,
     "tableResultSettingsMap": {},
     "title": ""
    }
   },
   "source": [
    "# Agenda\n",
    "\n",
    "While the install completes, we can review the Agenda and then start lesson #1.\n",
    "\n",
    "By the time you are ready to start lesson #2, the \"install\" should have been completed."
   ]
  },
  {
   "cell_type": "markdown",
   "metadata": {
    "application/vnd.databricks.v1+cell": {
     "cellMetadata": {},
     "inputWidgets": {},
     "nuid": "9256b827-50f6-4513-b3cf-a39eb1704788",
     "showTitle": false,
     "tableResultSettingsMap": {},
     "title": ""
    }
   },
   "source": [
    "## 00 - Getting Started\n",
    "* [Getting Started - Agenda]($./00 - Getting Started - Agenda)"
   ]
  },
  {
   "cell_type": "markdown",
   "metadata": {
    "application/vnd.databricks.v1+cell": {
     "cellMetadata": {},
     "inputWidgets": {},
     "nuid": "1d7d8de1-f397-4b9c-8825-488c6812ecbe",
     "showTitle": false,
     "tableResultSettingsMap": {},
     "title": ""
    }
   },
   "source": [
    "## 01 - Architecting for the Lakehouse\n",
    "* Prerequisite Content - OPTIONAL\n",
    "  * [ADE 99.1 - Setting Up Tables]($./99 - OPTIONAL Content/ADE 99.1 - Setting Up Tables)\n",
    "  * [ADE 99.2 - Optimizing Data Storage]($./99 - OPTIONAL Content/ADE 99.2 - Optimizing Data Storage)\n",
    "  * [ADE 99.3 - Understanding Delta Lake Transactions]($./99 - OPTIONAL Content/ADE 99.3 - Understanding Delta Lake Transactions)\n",
    "* [ADE 1.1 - Streaming Design Patterns]($./01 - Architecting for the Lakehouse/ADE 1.1 - Streaming Design Patterns)"
   ]
  },
  {
   "cell_type": "markdown",
   "metadata": {
    "application/vnd.databricks.v1+cell": {
     "cellMetadata": {},
     "inputWidgets": {},
     "nuid": "63445343-99b0-47d0-8a4e-f40927dfd085",
     "showTitle": false,
     "tableResultSettingsMap": {},
     "title": ""
    }
   },
   "source": [
    "## 02 - Bronze Ingestion Patterns\n",
    "* Prerequisite Content - OPTIONAL\n",
    "  * [ADE 99.4 - Using Clone with Delta Lake]($./99 - OPTIONAL Content/ADE 99.4 - Using Clone with Delta Lake)\n",
    "  * [ADE 99.5 - Auto Loader]($./99 - OPTIONAL Content/ADE 99.5 - Auto Loader)\n",
    "* [ADE 2.1 - Auto Load to Multiplex Bronze]($./02 - Bronze Ingestion Patterns/ADE 2.1 - Auto Load to Multiplex Bronze)\n",
    "* [ADE 2.2 - Streaming from Multiplex Bronze]($./02 - Bronze Ingestion Patterns/ADE 2.2 - Streaming from Multiplex Bronze)"
   ]
  },
  {
   "cell_type": "markdown",
   "metadata": {
    "application/vnd.databricks.v1+cell": {
     "cellMetadata": {},
     "inputWidgets": {},
     "nuid": "0b211dd4-fe04-430c-80e4-c581a9b7865d",
     "showTitle": false,
     "tableResultSettingsMap": {},
     "title": ""
    }
   },
   "source": [
    "## 03 - Promoting to Silver\n",
    "* [ADE 3.1 - Streaming Deduplication]($./03 - Promoting to Silver/ADE 3.1 - Streaming Deduplication)\n",
    "* [ADE 3.2 - Quality Enforcement]($./03 - Promoting to Silver/ADE 3.2 - Quality Enforcement)\n",
    "* [ADE 3.3 - Promoting to Silver]($./03 - Promoting to Silver/ADE 3.3 - Promoting to Silver)\n",
    "* [ADE 3.4 - Type 2 SCD]($./03 - Promoting to Silver/ADE 3.4 - Type 2 SCD)\n",
    "* [ADE 3.5 - Stream Static Join]($./03 - Promoting to Silver/ADE 3.5 - Stream Static Join)"
   ]
  },
  {
   "cell_type": "markdown",
   "metadata": {
    "application/vnd.databricks.v1+cell": {
     "cellMetadata": {},
     "inputWidgets": {},
     "nuid": "6319b006-273f-4bdc-bc04-c09136ebc7cb",
     "showTitle": false,
     "tableResultSettingsMap": {},
     "title": ""
    }
   },
   "source": [
    "## 04 - Gold Query Layer\n",
    "* [ADE 4.1 - Stored Views]($./04 - Gold Query Layer/ADE 4.1 - Stored Views)\n",
    "* [ADE 4.2 - Materialized Gold Tables]($./04 - Gold Query Layer/ADE 4.2 - Materialized Gold Tables)"
   ]
  },
  {
   "cell_type": "markdown",
   "metadata": {
    "application/vnd.databricks.v1+cell": {
     "cellMetadata": {},
     "inputWidgets": {},
     "nuid": "9ea3aabf-7ee2-4727-9f57-fd069a7287cc",
     "showTitle": false,
     "tableResultSettingsMap": {},
     "title": ""
    }
   },
   "source": [
    "## 05 - Storing Data Securely\n",
    "* [ADE 5.1 - PII Lookup Table]($./05 - Storing Data Securely/ADE 5.1 - PII Lookup Table)\n",
    "* [ADE 5.2 - Storing PII Securely]($./05 - Storing Data Securely/ADE 5.2 - Storing PII Securely)\n",
    "* [ADE 5.3 - Deidentified PII Access]($./05 - Storing Data Securely/ADE 5.3 - Deidentified PII Access)"
   ]
  },
  {
   "cell_type": "markdown",
   "metadata": {
    "application/vnd.databricks.v1+cell": {
     "cellMetadata": {},
     "inputWidgets": {},
     "nuid": "25684366-4bac-4bc6-bad7-d6cdec62ac60",
     "showTitle": false,
     "tableResultSettingsMap": {},
     "title": ""
    }
   },
   "source": [
    "## 06 - Propagating Updates and Deletes\n",
    "* [ADE 6.1 - Processing Records from Change Data Feed]($./06 - Propagating Updates and Deletes/ADE 6.1 - Processing Records from Change Data Feed)\n",
    "* [ADE 6.2 - Propagating Deletes with CDF]($./06 - Propagating Updates and Deletes/ADE 6.2 - Propagating Deletes with CDF)\n",
    "* [ADE 6.3 - Deleting at Partition Boundaries]($./06 - Propagating Updates and Deletes/ADE 6.3 - Deleting at Partition Boundaries)"
   ]
  },
  {
   "cell_type": "markdown",
   "metadata": {
    "application/vnd.databricks.v1+cell": {
     "cellMetadata": {},
     "inputWidgets": {},
     "nuid": "4a94ce63-e5e3-463a-9c2f-e73934cd55f9",
     "showTitle": false,
     "tableResultSettingsMap": {},
     "title": ""
    }
   },
   "source": [
    "## 07 - Orchestration and Scheduling\n",
    "\n",
    "* ADE 7.1 - Multi-Task Jobs\n",
    "  * [Task-1, Create Database]($./07 - Orchestration and Scheduling/ADE 7.1 - Multi-Task Jobs/Task-1, Create Database)\n",
    "  * [Task-2, From Task 2]($./07 - Orchestration and Scheduling/ADE 7.1 - Multi-Task Jobs/Task-2, From Task 2)\n",
    "  * [Task-3, From Task 3]($./07 - Orchestration and Scheduling/ADE 7.1 - Multi-Task Jobs/Task-3, From Task 3)\n",
    "  * [Task-4, Key-Param]($./07 - Orchestration and Scheduling/ADE 7.1 - Multi-Task Jobs/Task-4, Key-Param)\n",
    "  * [Task-5, Create task_5]($./07 - Orchestration and Scheduling/ADE 7.1 - Multi-Task Jobs/Task-5, Create task_5)\n",
    "  * [Task-6, Errors]($./07 - Orchestration and Scheduling/ADE 7.1 - Multi-Task Jobs/Task-6, Errors)\n",
    "  * [Task-7, Cleanup]($./07 - Orchestration and Scheduling/ADE 7.1 - Multi-Task Jobs/Task-7, Cleanup)\n",
    "* [ADE 7.2 - CLI and REST API]($./07 - Orchestration and Scheduling/ADE 7.2 - CLI and REST API)\n",
    "* ADE 7.3 - Deploying Workloads\n",
    "  * [1 - Reset Pipelines]($./07 - Orchestration and Scheduling/ADE 7.3 - Deploying Workloads/1 - Reset Pipelines)\n",
    "  * [2 - Schedule Streaming Jobs]($./07 - Orchestration and Scheduling/ADE 7.3 - Deploying Workloads/2 - Schedule Streaming Jobs)\n",
    "  * [3 - Schedule Batch Jobs]($./07 - Orchestration and Scheduling/ADE 7.3 - Deploying Workloads/3 - Schedule Batch Jobs)\n",
    "  * [4 - Streaming Progress]($./07 - Orchestration and Scheduling/ADE 7.3 - Deploying Workloads/4 - Streaming Progress)\n",
    "  * [5 - Demo Conclusion]($./07 - Orchestration and Scheduling/ADE 7.3 - Deploying Workloads/5 - Demo Conclusion)\n",
    "* Additional Content - OPTIONAL\n",
    "  * [ADE 99.6 - Error Prone]($./99 - OPTIONAL Content/ADE 99.6 - Error Prone)\n",
    "  * [ADE 99.7 - Refactor to Relative Imports]($./99 - OPTIONAL Content/ADE 99.7 - Refactor to Relative Imports)"
   ]
  },
  {
   "cell_type": "markdown",
   "metadata": {
    "application/vnd.databricks.v1+cell": {
     "cellMetadata": {},
     "inputWidgets": {},
     "nuid": "61265a8e-aada-4037-afe5-d012dd95849e",
     "showTitle": false,
     "tableResultSettingsMap": {},
     "title": ""
    }
   },
   "source": [
    "&copy; 2022 Databricks, Inc. All rights reserved.<br/>\n",
    "Apache, Apache Spark, Spark and the Spark logo are trademarks of the <a href=\"https://www.apache.org/\">Apache Software Foundation</a>.<br/>\n",
    "<br/>\n",
    "<a href=\"https://databricks.com/privacy-policy\">Privacy Policy</a> | <a href=\"https://databricks.com/terms-of-use\">Terms of Use</a> | <a href=\"https://help.databricks.com/\">Support</a>"
   ]
  }
 ],
 "metadata": {
  "application/vnd.databricks.v1+notebook": {
   "computePreferences": null,
   "dashboards": [],
   "environmentMetadata": null,
   "inputWidgetPreferences": null,
   "language": "python",
   "notebookMetadata": {
    "pythonIndentUnit": 2
   },
   "notebookName": "00 - Getting Started - Agenda",
   "widgets": {}
  },
  "language_info": {
   "name": "python"
  }
 },
 "nbformat": 4,
 "nbformat_minor": 0
}