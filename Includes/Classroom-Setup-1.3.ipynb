{
 "cells": [
  {
   "cell_type": "code",
   "execution_count": 0,
   "metadata": {
    "application/vnd.databricks.v1+cell": {
     "cellMetadata": {},
     "inputWidgets": {},
     "nuid": "45315b97-fdef-4ec3-a7a7-03a872fa765b",
     "showTitle": false,
     "tableResultSettingsMap": {},
     "title": ""
    }
   },
   "outputs": [],
   "source": [
    "%run ./_databricks-academy-helper $lesson=\"1.3\""
   ]
  },
  {
   "cell_type": "code",
   "execution_count": 0,
   "metadata": {
    "application/vnd.databricks.v1+cell": {
     "cellMetadata": {},
     "inputWidgets": {},
     "nuid": "b932b8fb-652d-4917-8150-3c6b10885c0b",
     "showTitle": false,
     "tableResultSettingsMap": {},
     "title": ""
    }
   },
   "outputs": [],
   "source": [
    "%run ./_utility-functions"
   ]
  },
  {
   "cell_type": "code",
   "execution_count": 0,
   "metadata": {
    "application/vnd.databricks.v1+cell": {
     "cellMetadata": {},
     "inputWidgets": {},
     "nuid": "735377a7-9a28-4d58-9bf9-a0c9d7d66010",
     "showTitle": false,
     "tableResultSettingsMap": {},
     "title": ""
    }
   },
   "outputs": [],
   "source": [
    "def create_new_records():\n",
    "    DA.new_records_tbl = \"new_records\"\n",
    "    spark.conf.set(\"da.new_records_tbl\", DA.new_records_tbl)\n",
    "    spark.sql(\"CREATE OR REPLACE TABLE ${da.new_records_tbl} (id INT, name STRING, value DOUBLE)\")\n",
    "    spark.sql(\"\"\"INSERT INTO ${da.new_records_tbl} VALUES \n",
    "        (7, \"Viktor\", 7.4),\n",
    "        (8, \"Hiro\", 8.2),\n",
    "        (9, \"Shana\", 9.9)\"\"\")\n",
    "    spark.sql(\"OPTIMIZE new_records\")\n",
    "\n",
    "def create_updates():\n",
    "    DA.updates_tbl = \"updates\" \n",
    "    spark.conf.set(\"da.updates_tbl\", DA.updates_tbl)\n",
    "    spark.sql(\"CREATE OR REPLACE TABLE ${da.updates_tbl} (id INT, name STRING, value DOUBLE, type STRING)\")\n",
    "    spark.sql(\"\"\"INSERT INTO ${da.updates_tbl} VALUES \n",
    "        (2, \"Omar\", 15.2, \"update\"),\n",
    "        (3, \"\", null, \"delete\"),\n",
    "        (10, \"Blue\", 7.7, \"insert\"),\n",
    "        (11, \"Diya\", 8.8, \"update\")\"\"\")\n",
    "      "
   ]
  },
  {
   "cell_type": "code",
   "execution_count": 0,
   "metadata": {
    "application/vnd.databricks.v1+cell": {
     "cellMetadata": {},
     "inputWidgets": {},
     "nuid": "5c49acc5-087c-4414-89a7-af2c329ce27a",
     "showTitle": false,
     "tableResultSettingsMap": {},
     "title": ""
    }
   },
   "outputs": [],
   "source": [
    "DA.cleanup()\n",
    "DA.init()\n",
    "\n",
    "create_new_records()\n",
    "create_updates()\n",
    "\n",
    "DA.conclude_setup()\n"
   ]
  }
 ],
 "metadata": {
  "application/vnd.databricks.v1+notebook": {
   "computePreferences": null,
   "dashboards": [],
   "environmentMetadata": null,
   "inputWidgetPreferences": null,
   "language": "python",
   "notebookMetadata": {
    "pythonIndentUnit": 2
   },
   "notebookName": "Classroom-Setup-1.3",
   "widgets": {}
  },
  "language_info": {
   "name": "python"
  }
 },
 "nbformat": 4,
 "nbformat_minor": 0
}