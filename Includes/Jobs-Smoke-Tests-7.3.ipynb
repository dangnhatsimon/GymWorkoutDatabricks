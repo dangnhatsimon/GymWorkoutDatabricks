{
 "cells": [
  {
   "cell_type": "markdown",
   "metadata": {
    "application/vnd.databricks.v1+cell": {
     "cellMetadata": {},
     "inputWidgets": {},
     "nuid": "38df9428-47cb-4cb5-8e24-b24f70fa35fa",
     "showTitle": false,
     "tableResultSettingsMap": {},
     "title": ""
    }
   },
   "source": [
    "# Jobs Smoke Tests 7.3\n",
    "This notebook is provided solely for testing the Multi-Tasks jobs in section 7.3"
   ]
  },
  {
   "cell_type": "code",
   "execution_count": 0,
   "metadata": {
    "application/vnd.databricks.v1+cell": {
     "cellMetadata": {},
     "inputWidgets": {},
     "nuid": "d0af00ea-128d-4ab7-b886-58cd2177fc0b",
     "showTitle": false,
     "tableResultSettingsMap": {},
     "title": ""
    }
   },
   "outputs": [],
   "source": [
    "%pip install \\\n",
    "git+https://github.com/databricks-academy/dbacademy-gems \\\n",
    "git+https://github.com/databricks-academy/dbacademy-rest \\\n",
    "--quiet --disable-pip-version-check"
   ]
  },
  {
   "cell_type": "code",
   "execution_count": 0,
   "metadata": {
    "application/vnd.databricks.v1+cell": {
     "cellMetadata": {},
     "inputWidgets": {},
     "nuid": "f6553473-2b77-471a-8d85-48749a3750c2",
     "showTitle": false,
     "tableResultSettingsMap": {},
     "title": ""
    }
   },
   "outputs": [],
   "source": [
    "%run ./_databricks-academy-helper $lesson=\"8.4\""
   ]
  },
  {
   "cell_type": "code",
   "execution_count": 0,
   "metadata": {
    "application/vnd.databricks.v1+cell": {
     "cellMetadata": {},
     "inputWidgets": {},
     "nuid": "8bca32e6-e27c-4208-9481-1a9f058e7c4d",
     "showTitle": false,
     "tableResultSettingsMap": {},
     "title": ""
    }
   },
   "outputs": [],
   "source": [
    "%run ./_utility-functions"
   ]
  },
  {
   "cell_type": "code",
   "execution_count": 0,
   "metadata": {
    "application/vnd.databricks.v1+cell": {
     "cellMetadata": {},
     "inputWidgets": {},
     "nuid": "524d9687-59cb-4079-bacc-ca90e5158309",
     "showTitle": false,
     "tableResultSettingsMap": {},
     "title": ""
    }
   },
   "outputs": [],
   "source": [
    "def get_job_config():\n",
    "    \"\"\"\n",
    "    Returns the configuration to be used by the student in configuring the job.\n",
    "    \"\"\"\n",
    "    base_path = dbutils.entry_point.getDbutils().notebook().getContext().notebookPath().getOrElse(None)\n",
    "    base_path = \"/\".join(base_path.split(\"/\")[:-2]) + \"/08 - Orchestration and Scheduling/ADE 8.4 - Deploying Workloads\"\n",
    "    \n",
    "    da_name, da_hash = DA.get_username_hash()\n",
    "    job_name = f\"da-{da_name}-{da_hash}-{DA.course_code.lower()}: Streaming Job\"\n",
    "    \n",
    "    return JobConfig(job_name, [\n",
    "        TaskConfig(name=\"Reset-Pipelines\",\n",
    "                   resource_type=\"Notebook\",\n",
    "                   resource=f\"{base_path}/1 - Reset Pipelines\",\n",
    "                   params={\"batch_delay\":\"0\"}),\n",
    "        \n",
    "        TaskConfig(name=\"Streaming-Job\",\n",
    "                   resource_type=\"Notebook\",\n",
    "                   resource=f\"{base_path}/2 - Schedule Streaming Jobs\",\n",
    "                   depends_on=[\"Reset-Pipelines\"],\n",
    "                   params={\"once\":str(True)}),\n",
    "        \n",
    "        TaskConfig(name=\"Batch-Job\",\n",
    "                   resource_type=\"Notebook\",\n",
    "                   resource=f\"{base_path}/3 - Schedule Batch Jobs\",\n",
    "                   depends_on=[\"Streaming-Job\"],\n",
    "                   params={\"once\":str(True)}),\n",
    "        \n",
    "        TaskConfig(name=\"Streaming-Progress\",\n",
    "                   resource_type=\"Notebook\",\n",
    "                   resource=f\"{base_path}/4 - Streaming Progress\",\n",
    "                   depends_on=[\"Batch-Job\"],\n",
    "                   params={\"once\":str(True)}),\n",
    "        \n",
    "        TaskConfig(name=\"Conclusion\",\n",
    "                   resource_type=\"Notebook\",\n",
    "                   resource=f\"{base_path}/5 - Demo Conclusion\",\n",
    "                   depends_on=[\"Streaming-Progress\"]),\n",
    "    ])\n",
    "    \n",
    "DA.print_job_config()"
   ]
  },
  {
   "cell_type": "code",
   "execution_count": 0,
   "metadata": {
    "application/vnd.databricks.v1+cell": {
     "cellMetadata": {},
     "inputWidgets": {},
     "nuid": "18848a0e-5a61-4dbd-9604-cd9b268e6e7c",
     "showTitle": false,
     "tableResultSettingsMap": {},
     "title": ""
    }
   },
   "outputs": [],
   "source": [
    "job_id = DA.create_job()"
   ]
  },
  {
   "cell_type": "code",
   "execution_count": 0,
   "metadata": {
    "application/vnd.databricks.v1+cell": {
     "cellMetadata": {},
     "inputWidgets": {},
     "nuid": "ab74c3d7-c087-4cc6-88e6-ad2ce52080b5",
     "showTitle": false,
     "tableResultSettingsMap": {},
     "title": ""
    }
   },
   "outputs": [],
   "source": [
    "DA.start_job(job_id)\n"
   ]
  }
 ],
 "metadata": {
  "application/vnd.databricks.v1+notebook": {
   "computePreferences": null,
   "dashboards": [],
   "environmentMetadata": null,
   "inputWidgetPreferences": null,
   "language": "python",
   "notebookMetadata": {
    "pythonIndentUnit": 2
   },
   "notebookName": "Jobs-Smoke-Tests-7.3",
   "widgets": {}
  },
  "language_info": {
   "name": "python"
  }
 },
 "nbformat": 4,
 "nbformat_minor": 0
}