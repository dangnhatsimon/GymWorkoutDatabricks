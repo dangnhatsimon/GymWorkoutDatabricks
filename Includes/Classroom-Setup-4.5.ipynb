{
 "cells": [
  {
   "cell_type": "code",
   "execution_count": 0,
   "metadata": {
    "application/vnd.databricks.v1+cell": {
     "cellMetadata": {},
     "inputWidgets": {},
     "nuid": "be3955e5-8413-4965-ba0c-948d03ff1ac6",
     "showTitle": false,
     "tableResultSettingsMap": {},
     "title": ""
    }
   },
   "outputs": [],
   "source": [
    "%run ./_databricks-academy-helper $lesson=\"4.5\""
   ]
  },
  {
   "cell_type": "code",
   "execution_count": 0,
   "metadata": {
    "application/vnd.databricks.v1+cell": {
     "cellMetadata": {},
     "inputWidgets": {},
     "nuid": "b1cc0ce8-6ea9-4194-b74d-7eb5597465b9",
     "showTitle": false,
     "tableResultSettingsMap": {},
     "title": ""
    }
   },
   "outputs": [],
   "source": [
    "%run ./_utility-functions"
   ]
  },
  {
   "cell_type": "code",
   "execution_count": 0,
   "metadata": {
    "application/vnd.databricks.v1+cell": {
     "cellMetadata": {},
     "inputWidgets": {},
     "nuid": "9e1af4e9-1f97-4d02-8c24-0f2b2ad8a4f0",
     "showTitle": false,
     "tableResultSettingsMap": {},
     "title": ""
    }
   },
   "outputs": [],
   "source": [
    "DA.cleanup()\n",
    "DA.init()"
   ]
  },
  {
   "cell_type": "code",
   "execution_count": 0,
   "metadata": {
    "application/vnd.databricks.v1+cell": {
     "cellMetadata": {},
     "inputWidgets": {},
     "nuid": "22c78e4e-c4b1-4b0c-a391-453e0565bb40",
     "showTitle": false,
     "tableResultSettingsMap": {},
     "title": ""
    }
   },
   "outputs": [],
   "source": [
    "# Create the user datasets\n",
    "create_date_lookup()              # Create static copy of date_lookup\n",
    "DA.create_user_lookup()           # Create the user-lookup table\n",
    "print()\n",
    "\n",
    "init_source_daily()               # Create the data factory\n",
    "# DA.daily_stream.load_through(6) # Load N days to DA.paths.source_daily\n",
    "DA.daily_stream.load()            # Load one new day to DA.paths.source_daily\n",
    "\n",
    "DA.process_bronze()               # Process through the bronze table\n",
    "DA.process_heart_rate_silver()    # Process the heart_rate_silver table\n",
    "DA.process_workouts_silver()      # Process the workouts_silver table\n",
    "DA.process_completed_workouts()   # Process the completed_workouts table\n",
    "DA.process_users()\n",
    "DA.process_user_bins()"
   ]
  },
  {
   "cell_type": "code",
   "execution_count": 0,
   "metadata": {
    "application/vnd.databricks.v1+cell": {
     "cellMetadata": {},
     "inputWidgets": {},
     "nuid": "936d5029-702d-4dd1-875d-e64f0cc63ef9",
     "showTitle": false,
     "tableResultSettingsMap": {},
     "title": ""
    }
   },
   "outputs": [],
   "source": [
    "DA.conclude_setup()\n"
   ]
  }
 ],
 "metadata": {
  "application/vnd.databricks.v1+notebook": {
   "computePreferences": null,
   "dashboards": [],
   "environmentMetadata": null,
   "inputWidgetPreferences": null,
   "language": "python",
   "notebookMetadata": {
    "pythonIndentUnit": 2
   },
   "notebookName": "Classroom-Setup-4.5",
   "widgets": {}
  },
  "language_info": {
   "name": "python"
  }
 },
 "nbformat": 4,
 "nbformat_minor": 0
}