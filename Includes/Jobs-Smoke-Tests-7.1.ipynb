{
 "cells": [
  {
   "cell_type": "markdown",
   "metadata": {
    "application/vnd.databricks.v1+cell": {
     "cellMetadata": {},
     "inputWidgets": {},
     "nuid": "afeafa5c-421f-4296-86e8-97c06ee0295d",
     "showTitle": false,
     "tableResultSettingsMap": {},
     "title": ""
    }
   },
   "source": [
    "# Jobs Smoke Tests 7.1\n",
    "This notebook is provided solely for testing the Multi-Tasks jobs in section 7.1"
   ]
  },
  {
   "cell_type": "code",
   "execution_count": 0,
   "metadata": {
    "application/vnd.databricks.v1+cell": {
     "cellMetadata": {},
     "inputWidgets": {},
     "nuid": "de62676f-d874-43e9-951e-e1b99ec82fe7",
     "showTitle": false,
     "tableResultSettingsMap": {},
     "title": ""
    }
   },
   "outputs": [],
   "source": [
    "%pip install \\\n",
    "git+https://github.com/databricks-academy/dbacademy-gems \\\n",
    "git+https://github.com/databricks-academy/dbacademy-rest \\\n",
    "--quiet --disable-pip-version-check"
   ]
  },
  {
   "cell_type": "code",
   "execution_count": 0,
   "metadata": {
    "application/vnd.databricks.v1+cell": {
     "cellMetadata": {},
     "inputWidgets": {},
     "nuid": "28452d39-91b8-4cac-b859-074bc29d8701",
     "showTitle": false,
     "tableResultSettingsMap": {},
     "title": ""
    }
   },
   "outputs": [],
   "source": [
    "%run ./_databricks-academy-helper $lesson=\"8.1\""
   ]
  },
  {
   "cell_type": "code",
   "execution_count": 0,
   "metadata": {
    "application/vnd.databricks.v1+cell": {
     "cellMetadata": {},
     "inputWidgets": {},
     "nuid": "dc2baae1-a465-4815-9091-5621205492c7",
     "showTitle": false,
     "tableResultSettingsMap": {},
     "title": ""
    }
   },
   "outputs": [],
   "source": [
    "%run ./_utility-functions"
   ]
  },
  {
   "cell_type": "code",
   "execution_count": 0,
   "metadata": {
    "application/vnd.databricks.v1+cell": {
     "cellMetadata": {},
     "inputWidgets": {},
     "nuid": "b32f4907-7939-460f-ba86-33bff160042e",
     "showTitle": false,
     "tableResultSettingsMap": {},
     "title": ""
    }
   },
   "outputs": [],
   "source": [
    "def get_job_config():\n",
    "    \"\"\"\n",
    "    Returns the configuration to be used by the student in configuring the job.\n",
    "    \"\"\"\n",
    "    base_path = dbutils.entry_point.getDbutils().notebook().getContext().notebookPath().getOrElse(None)\n",
    "    base_path = \"/\".join(base_path.split(\"/\")[:-2]) + \"/08 - Orchestration and Scheduling/ADE 8.1 - Multi-Task Jobs\"\n",
    "    \n",
    "    da_name, da_hash = DA.get_username_hash()\n",
    "    job_name = f\"da-{da_name}-{da_hash}-{DA.course_code.lower()}: Example Job\"\n",
    "    \n",
    "    return JobConfig(job_name, [\n",
    "        TaskConfig(name=\"Task-1\",\n",
    "                   resource_type=\"Notebook\",\n",
    "                   resource=f\"{base_path}/Task-1, Create Database\"),\n",
    "        \n",
    "        TaskConfig(name=\"Task-2\",\n",
    "                   resource_type=\"Notebook\",\n",
    "                   resource=f\"{base_path}/Task-2, From Task 2\",\n",
    "                   depends_on=[\"Task-1\"]),\n",
    "        \n",
    "        TaskConfig(name=\"Task-3\",\n",
    "                   resource_type=\"Notebook\",\n",
    "                   resource=f\"{base_path}/Task-3, From Task 3\",\n",
    "                   depends_on=[\"Task-1\"]),\n",
    "        \n",
    "        TaskConfig(name=\"Task-4\",\n",
    "                   resource_type=\"Notebook\",\n",
    "                   resource=f\"{base_path}/Task-4, Key-Param\",\n",
    "                   depends_on=[\"Task-2\", \"Task-3\"],\n",
    "                   params={\"name\": \"John Doe\"}),\n",
    "        \n",
    "        TaskConfig(name=\"Task-5\",\n",
    "                   resource_type=\"Notebook\",\n",
    "                   resource=f\"{base_path}/Task-5, Create task_5\",\n",
    "                   depends_on=[\"Task-1\"]),\n",
    "        \n",
    "        TaskConfig(name=\"Task-6\",\n",
    "                   resource_type=\"Notebook\",\n",
    "                   resource=f\"{base_path}/Task-6, Errors\",\n",
    "                   depends_on=[\"Task-5\"]),\n",
    "        \n",
    "        TaskConfig(name=\"Task-7\",\n",
    "                   resource_type=\"Notebook\",\n",
    "                   resource=f\"{base_path}/Task-7, Cleanup\",\n",
    "                   depends_on=[\"Task-4\", \"Task-6\"]),\n",
    "    ])\n",
    "    \n",
    "DA.print_job_config()"
   ]
  },
  {
   "cell_type": "code",
   "execution_count": 0,
   "metadata": {
    "application/vnd.databricks.v1+cell": {
     "cellMetadata": {},
     "inputWidgets": {},
     "nuid": "5e8a6292-9871-4397-b992-97a9c61efb8d",
     "showTitle": false,
     "tableResultSettingsMap": {},
     "title": ""
    }
   },
   "outputs": [],
   "source": [
    "job_id = DA.create_job()"
   ]
  },
  {
   "cell_type": "code",
   "execution_count": 0,
   "metadata": {
    "application/vnd.databricks.v1+cell": {
     "cellMetadata": {},
     "inputWidgets": {},
     "nuid": "10d6f31e-1d64-4baa-91b3-d0707c35e7b7",
     "showTitle": false,
     "tableResultSettingsMap": {},
     "title": ""
    }
   },
   "outputs": [],
   "source": [
    "DA.start_job(job_id)\n"
   ]
  }
 ],
 "metadata": {
  "application/vnd.databricks.v1+notebook": {
   "computePreferences": null,
   "dashboards": [],
   "environmentMetadata": null,
   "inputWidgetPreferences": null,
   "language": "python",
   "notebookMetadata": {
    "pythonIndentUnit": 2
   },
   "notebookName": "Jobs-Smoke-Tests-7.1",
   "widgets": {}
  },
  "language_info": {
   "name": "python"
  }
 },
 "nbformat": 4,
 "nbformat_minor": 0
}