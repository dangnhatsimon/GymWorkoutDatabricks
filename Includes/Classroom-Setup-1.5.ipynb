{
 "cells": [
  {
   "cell_type": "code",
   "execution_count": 0,
   "metadata": {
    "application/vnd.databricks.v1+cell": {
     "cellMetadata": {},
     "inputWidgets": {},
     "nuid": "6c3e1760-636b-48ec-9ff5-e3fa1dad42f1",
     "showTitle": false,
     "tableResultSettingsMap": {},
     "title": ""
    }
   },
   "outputs": [],
   "source": [
    "%run ./_databricks-academy-helper $lesson=\"1.5\""
   ]
  },
  {
   "cell_type": "code",
   "execution_count": 0,
   "metadata": {
    "application/vnd.databricks.v1+cell": {
     "cellMetadata": {},
     "inputWidgets": {},
     "nuid": "eba4a365-3616-4a27-83a4-e9e5edcb863b",
     "showTitle": false,
     "tableResultSettingsMap": {},
     "title": ""
    }
   },
   "outputs": [],
   "source": [
    "%run ./_utility-functions"
   ]
  },
  {
   "cell_type": "code",
   "execution_count": 0,
   "metadata": {
    "application/vnd.databricks.v1+cell": {
     "cellMetadata": {},
     "inputWidgets": {},
     "nuid": "fcb4bb44-1f6d-4e45-ac3a-6e45f6759751",
     "showTitle": false,
     "tableResultSettingsMap": {},
     "title": ""
    }
   },
   "outputs": [],
   "source": [
    "def create_gym_logs():\n",
    "    import time\n",
    "    \n",
    "    start = int(time.time())\n",
    "    print(f\"Creating gym_mac_logs dataset\", end=\"...\")\n",
    "\n",
    "    DA.hidden.gym_mac_logs_source = f\"{DA.hidden.datasets}/gym-logs\"\n",
    "    DA.paths.gym_mac_logs_json = f\"{DA.paths.working_dir}/gym_mac_logs.json\"\n",
    "\n",
    "    # Copies files to demo directory\n",
    "    files = dbutils.fs.ls(DA.hidden.gym_mac_logs_source)\n",
    "    # All files except those in 2019-12-10 where 2019-12-0 includes 1-9\n",
    "    for curr_file in [file.name for file in files if file.name.startswith(f\"2019120\")]:\n",
    "        # print(f\"...adding file {curr_file}\")\n",
    "        dbutils.fs.cp(f\"{DA.hidden.gym_mac_logs_source}/{curr_file}\", f\"{DA.paths.gym_mac_logs_json}/{curr_file}\")\n",
    "        \n",
    "    print(f\"({int(time.time())-start} seconds)\")"
   ]
  },
  {
   "cell_type": "code",
   "execution_count": 0,
   "metadata": {
    "application/vnd.databricks.v1+cell": {
     "cellMetadata": {},
     "inputWidgets": {},
     "nuid": "fe9348d0-a0b1-4463-bfb0-bdc98a54a1d6",
     "showTitle": false,
     "tableResultSettingsMap": {},
     "title": ""
    }
   },
   "outputs": [],
   "source": [
    "class GymMacStreamingFactory:\n",
    "    def __init__(self):\n",
    "        self.curr_day = 10\n",
    "        self.target = DA.paths.gym_mac_logs_json\n",
    "        self.source = DA.hidden.gym_mac_logs_source\n",
    "    \n",
    "    def load_day(self, files):\n",
    "        files = [file.name for file in files if file.name.startswith(f\"201912{self.curr_day}\")]\n",
    "        for curr_file in files:\n",
    "            dbutils.fs.cp(f\"{self.source}/{curr_file}\", f\"{self.target}/{curr_file}\")\n",
    "        return len(files)\n",
    "    \n",
    "    def load(self, continuous=False):\n",
    "        import time\n",
    "        \n",
    "        total = 0\n",
    "        start = int(time.time())\n",
    "        files = dbutils.fs.ls(self.source)\n",
    "        \n",
    "        if self.curr_day > 16:\n",
    "            print(\"Data source exhausted\\n\")\n",
    "            \n",
    "        elif continuous == True:\n",
    "            print(f\"Loading all gym_mac_log files\", end=\"...\")\n",
    "            while self.curr_day <= 16:\n",
    "                total += self.load_day(files)\n",
    "                self.curr_day += 1\n",
    "            \n",
    "        else:\n",
    "            print(f\"Loading gym_mac_logs for day #{self.curr_day}\", end=\"...\")\n",
    "            total = self.load_day(files)\n",
    "            self.curr_day += 1\n",
    "            \n",
    "        print(f\"({int(time.time())-start} seconds, {total:,} files)\")"
   ]
  },
  {
   "cell_type": "code",
   "execution_count": 0,
   "metadata": {
    "application/vnd.databricks.v1+cell": {
     "cellMetadata": {},
     "inputWidgets": {},
     "nuid": "9ba857dd-51be-4c80-bdf4-2aba58534018",
     "showTitle": false,
     "tableResultSettingsMap": {},
     "title": ""
    }
   },
   "outputs": [],
   "source": [
    "DA.cleanup()\n",
    "DA.init()\n",
    "\n",
    "create_gym_logs()\n",
    "DA.gym_mac_stream = GymMacStreamingFactory()\n",
    "\n",
    "DA.conclude_setup()\n"
   ]
  }
 ],
 "metadata": {
  "application/vnd.databricks.v1+notebook": {
   "computePreferences": null,
   "dashboards": [],
   "environmentMetadata": null,
   "inputWidgetPreferences": null,
   "language": "python",
   "notebookMetadata": {
    "pythonIndentUnit": 2
   },
   "notebookName": "Classroom-Setup-1.5",
   "widgets": {}
  },
  "language_info": {
   "name": "python"
  }
 },
 "nbformat": 4,
 "nbformat_minor": 0
}