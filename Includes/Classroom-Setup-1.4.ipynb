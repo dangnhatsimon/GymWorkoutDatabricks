{
 "cells": [
  {
   "cell_type": "code",
   "execution_count": 0,
   "metadata": {
    "application/vnd.databricks.v1+cell": {
     "cellMetadata": {},
     "inputWidgets": {},
     "nuid": "61db745a-9d0e-475d-a8c4-8ac2befdba13",
     "showTitle": false,
     "tableResultSettingsMap": {},
     "title": ""
    }
   },
   "outputs": [],
   "source": [
    "%run ./_databricks-academy-helper $lesson=\"1.4\""
   ]
  },
  {
   "cell_type": "code",
   "execution_count": 0,
   "metadata": {
    "application/vnd.databricks.v1+cell": {
     "cellMetadata": {},
     "inputWidgets": {},
     "nuid": "21e05598-9d67-45ef-a25a-33c063811460",
     "showTitle": false,
     "tableResultSettingsMap": {},
     "title": ""
    }
   },
   "outputs": [],
   "source": [
    "%run ./_utility-functions"
   ]
  },
  {
   "cell_type": "code",
   "execution_count": 0,
   "metadata": {
    "application/vnd.databricks.v1+cell": {
     "cellMetadata": {},
     "inputWidgets": {},
     "nuid": "1adbbb1d-9efb-4008-aa1c-a11bae3d418c",
     "showTitle": false,
     "tableResultSettingsMap": {},
     "title": ""
    }
   },
   "outputs": [],
   "source": [
    "DA.sensors_prod_tbl = \"sensors_prod\"\n",
    "\n",
    "def create_sensors_prod():\n",
    "    import time\n",
    "    import numpy as np\n",
    "    import pandas as pd\n",
    "\n",
    "    start = int(time.time())\n",
    "    print(f\"Creating {DA.sensors_prod_tbl}\", end=\"...\")\n",
    "\n",
    "    numFiles=3\n",
    "    numRows=1000\n",
    "    fileID = 0\n",
    "    deviceTypes = [\"A\", \"B\", \"C\", \"D\"]\n",
    "\n",
    "    spark.conf.set(\"spark.databricks.io.cache.enabled\", \"false\")\n",
    "    spark.sql(f\"\"\"\n",
    "        CREATE TABLE IF NOT EXISTS {DA.sensors_prod_tbl} (\n",
    "            time LONG COMMENT 'event timestamp in ms since epoch', \n",
    "            device_id LONG COMMENT 'device IDs, integer only',  \n",
    "            sensor_type STRING COMMENT 'sensor type identifier; single upper case letter', \n",
    "            signal_strength DOUBLE COMMENT 'decimal value between 0 and 1')\n",
    "        USING DELTA LOCATION '{DA.paths.working_dir}/prod/sensors'\n",
    "    \"\"\");\n",
    "\n",
    "    for i in range(numFiles):\n",
    "        startTime=int(time.time()*1000)\n",
    "        timestamp = startTime + (fileID * 60000) + np.random.randint(-10000, 10000, size=numRows)\n",
    "        deviceId = np.random.randint(0, 100, size=numRows)\n",
    "        deviceType = np.random.choice(deviceTypes, size=numRows)\n",
    "        signalStrength = np.random.random(size=numRows)\n",
    "        data = [timestamp, deviceId, deviceType, signalStrength]\n",
    "\n",
    "        columns = [\"time\", \"device_id\", \"sensor_type\", \"signal_strength\"]\n",
    "\n",
    "        tempDF = spark.createDataFrame(pd.DataFrame(data=zip(*data), columns = columns))\n",
    "        tempDF.write.format(\"delta\").mode(\"append\").saveAsTable(DA.sensors_prod_tbl)\n",
    "        fileID+=1\n",
    "    \n",
    "    total = spark.read.table(DA.sensors_prod_tbl).count()\n",
    "    print(f\"({int(time.time())-start} seconds, {total:,} records)\")"
   ]
  },
  {
   "cell_type": "code",
   "execution_count": 0,
   "metadata": {
    "application/vnd.databricks.v1+cell": {
     "cellMetadata": {},
     "inputWidgets": {},
     "nuid": "f0bcf165-135f-4d8b-90b0-1510d75c77a3",
     "showTitle": false,
     "tableResultSettingsMap": {},
     "title": ""
    }
   },
   "outputs": [],
   "source": [
    "DA.cleanup()\n",
    "DA.init()\n",
    "\n",
    "create_sensors_prod()\n",
    "\n",
    "DA.conclude_setup()"
   ]
  },
  {
   "cell_type": "code",
   "execution_count": 0,
   "metadata": {
    "application/vnd.databricks.v1+cell": {
     "cellMetadata": {},
     "inputWidgets": {},
     "nuid": "eb781832-448b-474e-ab0d-9e5ac6442a93",
     "showTitle": false,
     "tableResultSettingsMap": {},
     "title": ""
    }
   },
   "outputs": [],
   "source": [
    "def _check_files(table_name):\n",
    "    filepath = spark.sql(f\"DESCRIBE EXTENDED {table_name}\").filter(\"col_name == 'Location'\").select(\"data_type\").collect()[0][0]\n",
    "    filelist = dbutils.fs.ls(filepath)\n",
    "    filecount = len([file for file in filelist if file.name != \"_delta_log/\" ])\n",
    "    print(f\"Count of all data files in {table_name}: {filecount}\\n\")\n",
    "    return filelist\n",
    "\n",
    "DA.check_files = _check_files\n"
   ]
  }
 ],
 "metadata": {
  "application/vnd.databricks.v1+notebook": {
   "computePreferences": null,
   "dashboards": [],
   "environmentMetadata": null,
   "inputWidgetPreferences": null,
   "language": "python",
   "notebookMetadata": {
    "pythonIndentUnit": 2
   },
   "notebookName": "Classroom-Setup-1.4",
   "widgets": {}
  },
  "language_info": {
   "name": "python"
  }
 },
 "nbformat": 4,
 "nbformat_minor": 0
}