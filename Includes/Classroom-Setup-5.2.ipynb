{
 "cells": [
  {
   "cell_type": "code",
   "execution_count": 0,
   "metadata": {
    "application/vnd.databricks.v1+cell": {
     "cellMetadata": {},
     "inputWidgets": {},
     "nuid": "920957ae-9da7-4ab2-a232-c8f18d93b389",
     "showTitle": false,
     "tableResultSettingsMap": {},
     "title": ""
    }
   },
   "outputs": [],
   "source": [
    "%run ./_databricks-academy-helper $lesson=\"5.2\""
   ]
  },
  {
   "cell_type": "code",
   "execution_count": 0,
   "metadata": {
    "application/vnd.databricks.v1+cell": {
     "cellMetadata": {},
     "inputWidgets": {},
     "nuid": "e17385e8-4f78-4e63-aded-adff0e3285f9",
     "showTitle": false,
     "tableResultSettingsMap": {},
     "title": ""
    }
   },
   "outputs": [],
   "source": [
    "%run ./_utility-functions"
   ]
  },
  {
   "cell_type": "code",
   "execution_count": 0,
   "metadata": {
    "application/vnd.databricks.v1+cell": {
     "cellMetadata": {},
     "inputWidgets": {},
     "nuid": "caf13f75-c6f4-42aa-a464-817de0980937",
     "showTitle": false,
     "tableResultSettingsMap": {},
     "title": ""
    }
   },
   "outputs": [],
   "source": [
    "DA.cleanup()\n",
    "DA.init()\n",
    "\n",
    "DA.create_bronze_table()          # Clone (don't processes) the bronze table\n",
    "DA.create_user_lookup()           # Create the user-lookup table\n",
    "DA.create_gym_mac_logs()          # Create the gym_mac_logs()\n",
    "print()\n",
    "\n",
    "DA.process_heart_rate_silver()    # Process the heart_rate_silver table\n",
    "DA.process_workouts_silver()      # Process the workouts_silver table\n",
    "DA.process_completed_workouts()   # Process the completed_workouts table\n",
    "DA.process_workout_bpm()          # Process the workout_bpm table\n",
    "DA.process_users()\n",
    "DA.process_user_bins()\n",
    "\n",
    "DA.conclude_setup()\n"
   ]
  }
 ],
 "metadata": {
  "application/vnd.databricks.v1+notebook": {
   "computePreferences": null,
   "dashboards": [],
   "environmentMetadata": null,
   "inputWidgetPreferences": null,
   "language": "python",
   "notebookMetadata": {
    "pythonIndentUnit": 2
   },
   "notebookName": "Classroom-Setup-5.2",
   "widgets": {}
  },
  "language_info": {
   "name": "python"
  }
 },
 "nbformat": 4,
 "nbformat_minor": 0
}