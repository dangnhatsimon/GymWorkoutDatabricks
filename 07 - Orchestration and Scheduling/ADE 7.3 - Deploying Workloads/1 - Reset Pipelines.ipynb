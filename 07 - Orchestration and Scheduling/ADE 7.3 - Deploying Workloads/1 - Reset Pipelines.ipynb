{
 "cells": [
  {
   "cell_type": "markdown",
   "metadata": {
    "application/vnd.databricks.v1+cell": {
     "cellMetadata": {},
     "inputWidgets": {},
     "nuid": "1eed3d22-311d-43a5-b0c0-dba1f70a43e7",
     "showTitle": false,
     "tableResultSettingsMap": {},
     "title": ""
    }
   },
   "source": [
    "\n",
    "<div style=\"text-align: center; line-height: 0; padding-top: 9px;\">\n",
    "  <img src=\"https://databricks.com/wp-content/uploads/2018/03/db-academy-rgb-1200px.png\" alt=\"Databricks Learning\" style=\"width: 600px\">\n",
    "</div>"
   ]
  },
  {
   "cell_type": "markdown",
   "metadata": {
    "application/vnd.databricks.v1+cell": {
     "cellMetadata": {},
     "inputWidgets": {},
     "nuid": "2ae0886a-73e8-452f-944f-9a4915ebb072",
     "showTitle": false,
     "tableResultSettingsMap": {},
     "title": ""
    }
   },
   "source": [
    "# Reset Pipelines\n",
    "\n",
    "In this notebook, code is provided to remove all existing databases, data, and tables. \n",
    "\n",
    "Code is then provided to redeclare each table used in the architecture.\n",
    "\n",
    "This notebook should be run prior to scheduling jobs."
   ]
  },
  {
   "cell_type": "code",
   "execution_count": 0,
   "metadata": {
    "application/vnd.databricks.v1+cell": {
     "cellMetadata": {},
     "inputWidgets": {},
     "nuid": "c044390d-7eb2-4e07-923a-32a3f8fca9f7",
     "showTitle": false,
     "tableResultSettingsMap": {},
     "title": ""
    }
   },
   "outputs": [],
   "source": [
    "%run ../../Includes/Classroom-Setup-8.4.1"
   ]
  },
  {
   "cell_type": "markdown",
   "metadata": {
    "application/vnd.databricks.v1+cell": {
     "cellMetadata": {},
     "inputWidgets": {},
     "nuid": "d17d40e7-7b62-40a4-bc14-a77633a59caf",
     "showTitle": false,
     "tableResultSettingsMap": {},
     "title": ""
    }
   },
   "source": [
    "We'll be using the **`bronze_dev`** table, which is a clone that already contains all of our daily data."
   ]
  },
  {
   "cell_type": "code",
   "execution_count": 0,
   "metadata": {
    "application/vnd.databricks.v1+cell": {
     "cellMetadata": {},
     "inputWidgets": {},
     "nuid": "1577d902-abe8-4e7f-bad3-8d486ed8e2e4",
     "showTitle": false,
     "tableResultSettingsMap": {},
     "title": ""
    }
   },
   "outputs": [],
   "source": [
    "%sql\n",
    "SHOW TABLES"
   ]
  },
  {
   "cell_type": "markdown",
   "metadata": {
    "application/vnd.databricks.v1+cell": {
     "cellMetadata": {},
     "inputWidgets": {},
     "nuid": "653c31ee-6cbe-4f89-b468-3b12e5b35e67",
     "showTitle": false,
     "tableResultSettingsMap": {},
     "title": ""
    }
   },
   "source": [
    "Code to declare all the other tables in our pipelines are provided below."
   ]
  },
  {
   "cell_type": "code",
   "execution_count": 0,
   "metadata": {
    "application/vnd.databricks.v1+cell": {
     "cellMetadata": {},
     "inputWidgets": {},
     "nuid": "6be52689-b29f-4649-b81e-583e9a458fb3",
     "showTitle": false,
     "tableResultSettingsMap": {},
     "title": ""
    }
   },
   "outputs": [],
   "source": [
    "%sql\n",
    "CREATE TABLE IF NOT EXISTS heart_rate_silver\n",
    "(device_id LONG, time TIMESTAMP, heartrate DOUBLE, bpm_check STRING)\n",
    "USING DELTA\n",
    "LOCATION '${da.paths.user_db}/heart_rate_silver'"
   ]
  },
  {
   "cell_type": "code",
   "execution_count": 0,
   "metadata": {
    "application/vnd.databricks.v1+cell": {
     "cellMetadata": {},
     "inputWidgets": {},
     "nuid": "ff04b567-35c8-4f8a-91d6-a3b73bfc0bbe",
     "showTitle": false,
     "tableResultSettingsMap": {},
     "title": ""
    }
   },
   "outputs": [],
   "source": [
    "%sql\n",
    "CREATE TABLE IF NOT EXISTS workouts_silver\n",
    "(user_id INT, workout_id INT, time TIMESTAMP, action STRING, session_id INT)\n",
    "USING DELTA\n",
    "LOCATION '${da.paths.user_db}/workouts_silver'"
   ]
  },
  {
   "cell_type": "code",
   "execution_count": 0,
   "metadata": {
    "application/vnd.databricks.v1+cell": {
     "cellMetadata": {},
     "inputWidgets": {},
     "nuid": "ca649364-4c13-45bc-af12-2bc4c536f902",
     "showTitle": false,
     "tableResultSettingsMap": {},
     "title": ""
    }
   },
   "outputs": [],
   "source": [
    "%sql\n",
    "CREATE TABLE IF NOT EXISTS users\n",
    "(alt_id STRING, dob DATE, sex STRING, gender STRING, first_name STRING, last_name STRING, street_address STRING, city STRING, state STRING, zip INT, updated TIMESTAMP)\n",
    "USING DELTA\n",
    "LOCATION '${da.paths.user_db}/users'"
   ]
  },
  {
   "cell_type": "code",
   "execution_count": 0,
   "metadata": {
    "application/vnd.databricks.v1+cell": {
     "cellMetadata": {},
     "inputWidgets": {},
     "nuid": "ce702f3b-d906-4093-917b-0c0bfa14e706",
     "showTitle": false,
     "tableResultSettingsMap": {},
     "title": ""
    }
   },
   "outputs": [],
   "source": [
    "%sql\n",
    "CREATE TABLE IF NOT EXISTS completed_workouts\n",
    "(user_id INT, workout_id INT, session_id INT, start_time TIMESTAMP, end_time TIMESTAMP, in_progress BOOLEAN)\n",
    "USING DELTA\n",
    "LOCATION '${da.paths.user_db}/completed_workouts'"
   ]
  },
  {
   "cell_type": "code",
   "execution_count": 0,
   "metadata": {
    "application/vnd.databricks.v1+cell": {
     "cellMetadata": {},
     "inputWidgets": {},
     "nuid": "44b826f5-40c5-49e7-9f7e-f1f62610a376",
     "showTitle": false,
     "tableResultSettingsMap": {},
     "title": ""
    }
   },
   "outputs": [],
   "source": [
    "%sql\n",
    "CREATE TABLE IF NOT EXISTS workout_bpm\n",
    "(user_id INT, workout_id INT, session_id INT, time TIMESTAMP, heartrate DOUBLE)\n",
    "USING DELTA\n",
    "LOCATION '${da.paths.user_db}/workout_bpm'"
   ]
  },
  {
   "cell_type": "code",
   "execution_count": 0,
   "metadata": {
    "application/vnd.databricks.v1+cell": {
     "cellMetadata": {},
     "inputWidgets": {},
     "nuid": "e706df85-28b0-4e13-a93e-2b11274bacbe",
     "showTitle": false,
     "tableResultSettingsMap": {},
     "title": ""
    }
   },
   "outputs": [],
   "source": [
    "%sql\n",
    "CREATE TABLE IF NOT EXISTS user_bins\n",
    "(user_id BIGINT, age STRING, gender STRING, city STRING, state STRING)\n",
    "USING DELTA\n",
    "LOCATION '${da.paths.user_db}/user_bins'"
   ]
  },
  {
   "cell_type": "code",
   "execution_count": 0,
   "metadata": {
    "application/vnd.databricks.v1+cell": {
     "cellMetadata": {},
     "inputWidgets": {},
     "nuid": "424262de-6238-4e91-a172-85fd8cbee803",
     "showTitle": false,
     "tableResultSettingsMap": {},
     "title": ""
    }
   },
   "outputs": [],
   "source": [
    "%sql\n",
    "CREATE TABLE IF NOT EXISTS registered_users\n",
    "(device_id long, mac_address string, registration_timestamp double, user_id long)\n",
    "USING DELTA \n",
    "LOCATION '${da.paths.user_db}/registered_users'"
   ]
  },
  {
   "cell_type": "code",
   "execution_count": 0,
   "metadata": {
    "application/vnd.databricks.v1+cell": {
     "cellMetadata": {},
     "inputWidgets": {},
     "nuid": "8517ece7-f00d-4f2d-9abf-bee7c1529fe5",
     "showTitle": false,
     "tableResultSettingsMap": {},
     "title": ""
    }
   },
   "outputs": [],
   "source": [
    "%sql\n",
    "CREATE TABLE IF NOT EXISTS workout_bpm_summary\n",
    "(workout_id INT, session_id INT, user_id BIGINT, age STRING, gender STRING, city STRING, state STRING, min_bpm DOUBLE, avg_bpm DOUBLE, max_bpm DOUBLE, num_recordings BIGINT)\n",
    "USING DELTA \n",
    "LOCATION '${da.paths.user_db}/workout_bpm_summary'"
   ]
  },
  {
   "cell_type": "markdown",
   "metadata": {
    "application/vnd.databricks.v1+cell": {
     "cellMetadata": {},
     "inputWidgets": {},
     "nuid": "c131d9dd-b368-4b14-a1ee-9122fc16c4bf",
     "showTitle": false,
     "tableResultSettingsMap": {},
     "title": ""
    }
   },
   "source": [
    "For this demo, we're only focused on processing those data coming through our multiplex bronze table, so we'll bypass the incremental loading for the **`gym_mac_logs`** and **`user_lookup`** tables and recreate the final results with a direct read of all files."
   ]
  },
  {
   "cell_type": "code",
   "execution_count": 0,
   "metadata": {
    "application/vnd.databricks.v1+cell": {
     "cellMetadata": {},
     "inputWidgets": {},
     "nuid": "a9711dfa-13e3-487b-9476-8c63b25e84fc",
     "showTitle": false,
     "tableResultSettingsMap": {},
     "title": ""
    }
   },
   "outputs": [],
   "source": [
    "DA.create_gym_mac_logs()\n",
    "DA.create_user_lookup()"
   ]
  },
  {
   "cell_type": "code",
   "execution_count": 0,
   "metadata": {
    "application/vnd.databricks.v1+cell": {
     "cellMetadata": {},
     "inputWidgets": {},
     "nuid": "129d0612-8fda-45e6-b0fc-7aa46929bdf8",
     "showTitle": false,
     "tableResultSettingsMap": {},
     "title": ""
    }
   },
   "outputs": [],
   "source": [
    "%sql\n",
    "CREATE VIEW IF NOT EXISTS gym_user_stats AS (\n",
    "SELECT gym, mac_address, date, workouts, \n",
    "       (last_timestamp - first_timestamp)/60 AS minutes_in_gym, \n",
    "       (to_unix_timestamp(end_workout) - to_unix_timestamp(start_workout))/60 AS minutes_exercising\n",
    "FROM gym_mac_logs c\n",
    "INNER JOIN (\n",
    "  SELECT b.mac_address, \n",
    "         to_date(start_time) AS date, \n",
    "         collect_set(workout_id) AS workouts, \n",
    "         min(start_time) AS start_workout, \n",
    "         max(end_time) AS end_workout\n",
    "  FROM completed_workouts a\n",
    "  INNER JOIN user_lookup b\n",
    "  ON a.user_id = b.user_id\n",
    "  GROUP BY mac_address, to_date(start_time)\n",
    ") d\n",
    "ON c.mac = d.mac_address AND \n",
    "   to_date(CAST(c.first_timestamp AS timestamp)) = d.date)"
   ]
  },
  {
   "cell_type": "code",
   "execution_count": 0,
   "metadata": {
    "application/vnd.databricks.v1+cell": {
     "cellMetadata": {},
     "inputWidgets": {},
     "nuid": "720ae0b5-44d5-48bc-af6d-097cc590cde1",
     "showTitle": false,
     "tableResultSettingsMap": {},
     "title": ""
    }
   },
   "outputs": [],
   "source": [
    "%sql\n",
    "SHOW TABLES"
   ]
  },
  {
   "cell_type": "markdown",
   "metadata": {
    "application/vnd.databricks.v1+cell": {
     "cellMetadata": {},
     "inputWidgets": {},
     "nuid": "8e575642-e37f-43cc-bb09-e21def3afb32",
     "showTitle": false,
     "tableResultSettingsMap": {},
     "title": ""
    }
   },
   "source": [
    "# Load Sample Data\n",
    "Note that the following cell will run a scrpt that continues to execute for approximately 30 minutes.\n",
    "\n",
    "This will land batches of data to the location that our **`bronze`** table is currently configured to load data from.\n",
    "\n",
    "This will provide an idea of how data is flowing through the piplines."
   ]
  },
  {
   "cell_type": "code",
   "execution_count": 0,
   "metadata": {
    "application/vnd.databricks.v1+cell": {
     "cellMetadata": {},
     "inputWidgets": {},
     "nuid": "408e27fe-bf46-44ac-b924-6ff4a59f996b",
     "showTitle": false,
     "tableResultSettingsMap": {},
     "title": ""
    }
   },
   "outputs": [],
   "source": [
    "dbutils.widgets.text(\"batch_delay\", \"5\", \"Batch Delay\")\n",
    "batch_delay = int(dbutils.widgets.get(\"batch_delay\"))"
   ]
  },
  {
   "cell_type": "code",
   "execution_count": 0,
   "metadata": {
    "application/vnd.databricks.v1+cell": {
     "cellMetadata": {},
     "inputWidgets": {},
     "nuid": "3754dd79-a314-4def-90a7-e91f6ca90100",
     "showTitle": false,
     "tableResultSettingsMap": {},
     "title": ""
    }
   },
   "outputs": [],
   "source": [
    "DA.bronze_data_stream.load(from_batch=0, batch_delay=batch_delay)"
   ]
  },
  {
   "cell_type": "markdown",
   "metadata": {
    "application/vnd.databricks.v1+cell": {
     "cellMetadata": {},
     "inputWidgets": {},
     "nuid": "f88d342d-58bf-4f06-84f1-f549c2ee4f7c",
     "showTitle": false,
     "tableResultSettingsMap": {},
     "title": ""
    }
   },
   "source": [
    "Unlike other lessons, we will **NOT** be be executing our **`DA.cleanup()`** command<br/>\n",
    "as we want these assets to persist through all the notebooks in this demo."
   ]
  },
  {
   "cell_type": "markdown",
   "metadata": {
    "application/vnd.databricks.v1+cell": {
     "cellMetadata": {},
     "inputWidgets": {},
     "nuid": "0824c6dc-4e69-4f73-9af9-317e0270e62a",
     "showTitle": false,
     "tableResultSettingsMap": {},
     "title": ""
    }
   },
   "source": [
    "&copy; 2022 Databricks, Inc. All rights reserved.<br/>\n",
    "Apache, Apache Spark, Spark and the Spark logo are trademarks of the <a href=\"https://www.apache.org/\">Apache Software Foundation</a>.<br/>\n",
    "<br/>\n",
    "<a href=\"https://databricks.com/privacy-policy\">Privacy Policy</a> | <a href=\"https://databricks.com/terms-of-use\">Terms of Use</a> | <a href=\"https://help.databricks.com/\">Support</a>"
   ]
  }
 ],
 "metadata": {
  "application/vnd.databricks.v1+notebook": {
   "computePreferences": null,
   "dashboards": [],
   "environmentMetadata": null,
   "inputWidgetPreferences": null,
   "language": "python",
   "notebookMetadata": {
    "pythonIndentUnit": 2
   },
   "notebookName": "1 - Reset Pipelines",
   "widgets": {}
  },
  "language_info": {
   "name": "python"
  }
 },
 "nbformat": 4,
 "nbformat_minor": 0
}