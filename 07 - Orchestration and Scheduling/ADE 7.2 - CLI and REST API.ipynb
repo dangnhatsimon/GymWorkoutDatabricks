{
 "cells": [
  {
   "cell_type": "markdown",
   "metadata": {
    "application/vnd.databricks.v1+cell": {
     "cellMetadata": {},
     "inputWidgets": {},
     "nuid": "5e4ca1b9-6bae-4332-afa3-1a47172d698e",
     "showTitle": false,
     "tableResultSettingsMap": {},
     "title": ""
    }
   },
   "source": [
    "\n",
    "<div style=\"text-align: center; line-height: 0; padding-top: 9px;\">\n",
    "  <img src=\"https://databricks.com/wp-content/uploads/2018/03/db-academy-rgb-1200px.png\" alt=\"Databricks Learning\" style=\"width: 600px\">\n",
    "</div>"
   ]
  },
  {
   "cell_type": "markdown",
   "metadata": {
    "application/vnd.databricks.v1+cell": {
     "cellMetadata": {},
     "inputWidgets": {},
     "nuid": "f5b17a1b-ce9c-4342-889a-628e15cdb405",
     "showTitle": false,
     "tableResultSettingsMap": {},
     "title": ""
    }
   },
   "source": [
    "# CLI and REST API Lab\n",
    "\n",
    "Import this Git repo into your Databricks workspace: [cli-demo](https://github.com/databricks-academy/cli-demo)\n",
    "\n",
    "Then, navigate to the following Markdown files to access demo instructions for this lesson.\n",
    "| Demo | File Path |\n",
    "| --- | --- |\n",
    "| Working with the Databricks CLI | [cli-demo/cli-orch.md](https://github.com/databricks-academy/cli-demo/blob/published/cli-orch.md) |\n",
    "| Configuring and Using the Databricks REST API | [cli-demo/api-demo.md](https://github.com/databricks-academy/cli-demo/blob/published/api-demo.md) |"
   ]
  },
  {
   "cell_type": "markdown",
   "metadata": {
    "application/vnd.databricks.v1+cell": {
     "cellMetadata": {},
     "inputWidgets": {},
     "nuid": "d919f6ec-e9f4-419e-b44e-4bb2484419df",
     "showTitle": false,
     "tableResultSettingsMap": {},
     "title": ""
    }
   },
   "source": [
    "&copy; 2022 Databricks, Inc. All rights reserved.<br/>\n",
    "Apache, Apache Spark, Spark and the Spark logo are trademarks of the <a href=\"https://www.apache.org/\">Apache Software Foundation</a>.<br/>\n",
    "<br/>\n",
    "<a href=\"https://databricks.com/privacy-policy\">Privacy Policy</a> | <a href=\"https://databricks.com/terms-of-use\">Terms of Use</a> | <a href=\"https://help.databricks.com/\">Support</a>"
   ]
  }
 ],
 "metadata": {
  "application/vnd.databricks.v1+notebook": {
   "computePreferences": null,
   "dashboards": [],
   "environmentMetadata": null,
   "inputWidgetPreferences": null,
   "language": "python",
   "notebookMetadata": {
    "pythonIndentUnit": 2
   },
   "notebookName": "ADE 7.2 - CLI and REST API",
   "widgets": {}
  },
  "language_info": {
   "name": "python"
  }
 },
 "nbformat": 4,
 "nbformat_minor": 0
}